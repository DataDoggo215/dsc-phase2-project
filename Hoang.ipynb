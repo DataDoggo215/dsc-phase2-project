{
 "cells": [
  {
   "cell_type": "markdown",
   "id": "5d08c41c",
   "metadata": {},
   "source": [
    "## Final Project Submission\n",
    "\n",
    "* Student name: Hoang Nguyen, Madoria Thomas, Marcelo Scatena\n",
    "* Student pace: full time\n",
    "* Scheduled project review date: 07/01/2021\n",
    "* Instructor name: Skyler English\n"
   ]
  },
  {
   "cell_type": "code",
   "execution_count": 1,
   "id": "43a3df32",
   "metadata": {},
   "outputs": [
    {
     "name": "stdout",
     "output_type": "stream",
     "text": [
      "Requirement already satisfied: geopy in c:\\users\\01aut\\anaconda3\\lib\\site-packages (2.2.0)\n",
      "Requirement already satisfied: geographiclib<2,>=1.49 in c:\\users\\01aut\\anaconda3\\lib\\site-packages (from geopy) (1.52)\n",
      "Note: you may need to restart the kernel to use updated packages.\n"
     ]
    }
   ],
   "source": [
    "pip install geopy"
   ]
  },
  {
   "cell_type": "code",
   "execution_count": 2,
   "id": "af8432e2",
   "metadata": {},
   "outputs": [],
   "source": [
    "import pandas as pd\n",
    "import numpy as np\n",
    "import matplotlib.pyplot as plt\n",
    "import seaborn as sns\n",
    "from scipy import stats\n",
    "import statsmodels\n",
    "from statsmodels.formula.api import ols\n",
    "import statsmodels.api as sm\n",
    "import statsmodels.formula.api as smf\n",
    "from sklearn.model_selection import train_test_split, cross_val_score, KFold\n",
    "from sklearn.linear_model import LinearRegression\n",
    "from sklearn.svm import SVC\n",
    "from sklearn.datasets import make_classification\n",
    "from sklearn.metrics import mean_squared_error\n",
    "#from ipynb.fs.full.cleaning_data import clean_data\n",
    "from geopy import distance\n",
    "import warnings\n",
    "warnings.filterwarnings('ignore')"
   ]
  },
  {
   "cell_type": "code",
   "execution_count": 3,
   "id": "39f5918f",
   "metadata": {},
   "outputs": [],
   "source": [
    "df = pd.read_csv('data/kc_house_data.csv')"
   ]
  },
  {
   "cell_type": "code",
   "execution_count": 4,
   "id": "ee056a7f",
   "metadata": {},
   "outputs": [],
   "source": [
    "df_ref = pd.read_csv('data/kc_house_data.csv')"
   ]
  },
  {
   "cell_type": "code",
   "execution_count": 5,
   "id": "f85fdd57",
   "metadata": {},
   "outputs": [
    {
     "name": "stdout",
     "output_type": "stream",
     "text": [
      "<class 'pandas.core.frame.DataFrame'>\n",
      "RangeIndex: 21597 entries, 0 to 21596\n",
      "Data columns (total 21 columns):\n",
      " #   Column         Non-Null Count  Dtype  \n",
      "---  ------         --------------  -----  \n",
      " 0   id             21597 non-null  int64  \n",
      " 1   date           21597 non-null  object \n",
      " 2   price          21597 non-null  float64\n",
      " 3   bedrooms       21597 non-null  int64  \n",
      " 4   bathrooms      21597 non-null  float64\n",
      " 5   sqft_living    21597 non-null  int64  \n",
      " 6   sqft_lot       21597 non-null  int64  \n",
      " 7   floors         21597 non-null  float64\n",
      " 8   waterfront     19221 non-null  object \n",
      " 9   view           21534 non-null  object \n",
      " 10  condition      21597 non-null  object \n",
      " 11  grade          21597 non-null  object \n",
      " 12  sqft_above     21597 non-null  int64  \n",
      " 13  sqft_basement  21597 non-null  object \n",
      " 14  yr_built       21597 non-null  int64  \n",
      " 15  yr_renovated   17755 non-null  float64\n",
      " 16  zipcode        21597 non-null  int64  \n",
      " 17  lat            21597 non-null  float64\n",
      " 18  long           21597 non-null  float64\n",
      " 19  sqft_living15  21597 non-null  int64  \n",
      " 20  sqft_lot15     21597 non-null  int64  \n",
      "dtypes: float64(6), int64(9), object(6)\n",
      "memory usage: 3.5+ MB\n"
     ]
    }
   ],
   "source": [
    "df.info()"
   ]
  },
  {
   "cell_type": "markdown",
   "id": "7eccbf34",
   "metadata": {},
   "source": [
    "### Split Data into Test and Train"
   ]
  },
  {
   "cell_type": "code",
   "execution_count": 6,
   "id": "bfa9d3d7",
   "metadata": {},
   "outputs": [],
   "source": [
    "X = df.drop('price', axis=1)\n",
    "y = df['price']\n",
    "X_train, X_test, y_train, y_test = train_test_split(X, y, test_size=.20, random_state=42)"
   ]
  },
  {
   "cell_type": "code",
   "execution_count": 7,
   "id": "f31ac928",
   "metadata": {},
   "outputs": [],
   "source": [
    "# We'll use df as our train dataset\n",
    "y = y_train\n",
    "X_train['price'] = y\n",
    "df = X_train"
   ]
  },
  {
   "cell_type": "markdown",
   "id": "2d378f50",
   "metadata": {},
   "source": [
    "### Find out where my missing values and fill them to make a first model with all the information we can:"
   ]
  },
  {
   "cell_type": "code",
   "execution_count": 8,
   "id": "9b30ad6b",
   "metadata": {},
   "outputs": [
    {
     "data": {
      "text/plain": [
       "id                  0\n",
       "date                0\n",
       "bedrooms            0\n",
       "bathrooms           0\n",
       "sqft_living         0\n",
       "sqft_lot            0\n",
       "floors              0\n",
       "waterfront       1897\n",
       "view               53\n",
       "condition           0\n",
       "grade               0\n",
       "sqft_above          0\n",
       "sqft_basement       0\n",
       "yr_built            0\n",
       "yr_renovated     3059\n",
       "zipcode             0\n",
       "lat                 0\n",
       "long                0\n",
       "sqft_living15       0\n",
       "sqft_lot15          0\n",
       "price               0\n",
       "dtype: int64"
      ]
     },
     "execution_count": 8,
     "metadata": {},
     "output_type": "execute_result"
    }
   ],
   "source": [
    "df.isnull().sum()"
   ]
  },
  {
   "cell_type": "code",
   "execution_count": 9,
   "id": "ed3fb04e",
   "metadata": {},
   "outputs": [
    {
     "data": {
      "text/plain": [
       "NONE         15556\n",
       "AVERAGE        753\n",
       "GOOD           395\n",
       "EXCELLENT      263\n",
       "FAIR           257\n",
       "Name: view, dtype: int64"
      ]
     },
     "execution_count": 9,
     "metadata": {},
     "output_type": "execute_result"
    }
   ],
   "source": [
    "df['view'].value_counts()"
   ]
  },
  {
   "cell_type": "code",
   "execution_count": 10,
   "id": "d959a5c7",
   "metadata": {},
   "outputs": [],
   "source": [
    "df['view'].fillna('NONE', inplace=True)"
   ]
  },
  {
   "cell_type": "code",
   "execution_count": 11,
   "id": "a6e0ed4f",
   "metadata": {},
   "outputs": [
    {
     "data": {
      "text/plain": [
       "NO     15262\n",
       "YES      118\n",
       "Name: waterfront, dtype: int64"
      ]
     },
     "execution_count": 11,
     "metadata": {},
     "output_type": "execute_result"
    }
   ],
   "source": [
    "df['waterfront'].value_counts()"
   ]
  },
  {
   "cell_type": "code",
   "execution_count": 12,
   "id": "62d4c343",
   "metadata": {},
   "outputs": [],
   "source": [
    "df['waterfront'].fillna('NO', inplace=True)"
   ]
  },
  {
   "cell_type": "code",
   "execution_count": 13,
   "id": "81b4c5ac",
   "metadata": {},
   "outputs": [
    {
     "data": {
      "text/plain": [
       "0.0       13625\n",
       "2014.0       56\n",
       "2005.0       27\n",
       "2003.0       24\n",
       "2007.0       24\n",
       "          ...  \n",
       "1954.0        1\n",
       "1959.0        1\n",
       "1944.0        1\n",
       "1951.0        1\n",
       "1978.0        1\n",
       "Name: yr_renovated, Length: 68, dtype: int64"
      ]
     },
     "execution_count": 13,
     "metadata": {},
     "output_type": "execute_result"
    }
   ],
   "source": [
    "df['yr_renovated'].value_counts() "
   ]
  },
  {
   "cell_type": "code",
   "execution_count": 14,
   "id": "507f6a5d",
   "metadata": {},
   "outputs": [],
   "source": [
    "df['yr_renovated'].fillna(0.0, inplace=True)"
   ]
  },
  {
   "cell_type": "markdown",
   "id": "52a83580",
   "metadata": {},
   "source": [
    "### Change all our objects into numeric values:"
   ]
  },
  {
   "cell_type": "code",
   "execution_count": 15,
   "id": "03ed1e99",
   "metadata": {},
   "outputs": [],
   "source": [
    "# Convert grade to int\n",
    "df['grade'] = df['grade'].apply(lambda x: x[:2] if x[0]=='1' else x[:1]).astype('int64')"
   ]
  },
  {
   "cell_type": "code",
   "execution_count": 16,
   "id": "57fbd336",
   "metadata": {},
   "outputs": [],
   "source": [
    "# Remove ? and convert sqft_basement to int\n",
    "df['sqft_basement'] = df['sqft_basement'].apply(lambda x: 0 if x=='?' else int(x.split('.')[0]))"
   ]
  },
  {
   "cell_type": "code",
   "execution_count": 17,
   "id": "780046ae",
   "metadata": {},
   "outputs": [],
   "source": [
    "# Change waterfront to numeric\n",
    "df['waterfront'] = df['waterfront'].apply(lambda x: 1 if x=='YES' else 0)"
   ]
  },
  {
   "cell_type": "code",
   "execution_count": 18,
   "id": "e73c24e4",
   "metadata": {},
   "outputs": [
    {
     "data": {
      "text/plain": [
       "array(['NONE', 'AVERAGE', 'GOOD', 'EXCELLENT', 'FAIR'], dtype=object)"
      ]
     },
     "execution_count": 18,
     "metadata": {},
     "output_type": "execute_result"
    }
   ],
   "source": [
    "df['view'].unique()"
   ]
  },
  {
   "cell_type": "code",
   "execution_count": 19,
   "id": "9c624388",
   "metadata": {},
   "outputs": [],
   "source": [
    "# Change view to numeric\n",
    "df['view'] = df['view'].apply(lambda x: 0 if x=='NONE' else (1 if x=='FAIR' else (2 if x=='AVERAGE' else (3 if x=='GOOD' else 4))))"
   ]
  },
  {
   "cell_type": "code",
   "execution_count": 20,
   "id": "a03fbfa1",
   "metadata": {},
   "outputs": [
    {
     "data": {
      "text/plain": [
       "array(['Good', 'Average', 'Very Good', 'Fair', 'Poor'], dtype=object)"
      ]
     },
     "execution_count": 20,
     "metadata": {},
     "output_type": "execute_result"
    }
   ],
   "source": [
    "df['condition'].unique()"
   ]
  },
  {
   "cell_type": "code",
   "execution_count": 21,
   "id": "c7406563",
   "metadata": {},
   "outputs": [],
   "source": [
    "# Change condition to numeric\n",
    "df['condition'] = df['condition'].apply(lambda x: 1 if x=='Poor' else (2 if x=='Fair' else (3 if x=='Average' else (4 if x=='Good' else 5))))"
   ]
  },
  {
   "cell_type": "code",
   "execution_count": 22,
   "id": "a2a7a373",
   "metadata": {},
   "outputs": [],
   "source": [
    "#Convert date column to 2 separate columns for month and year\n",
    "date = df['date'].str.split('/', expand=True)\n",
    "df['month_sold'] = date[0].astype('int64')\n",
    "df['year_sold'] = date[2].astype('int64')\n",
    "\n",
    "#Drop original date column\n",
    "df.drop(columns=['date'], axis=1, inplace=True)"
   ]
  },
  {
   "cell_type": "code",
   "execution_count": 23,
   "id": "7ea96cd2",
   "metadata": {},
   "outputs": [
    {
     "data": {
      "text/html": [
       "<div>\n",
       "<style scoped>\n",
       "    .dataframe tbody tr th:only-of-type {\n",
       "        vertical-align: middle;\n",
       "    }\n",
       "\n",
       "    .dataframe tbody tr th {\n",
       "        vertical-align: top;\n",
       "    }\n",
       "\n",
       "    .dataframe thead th {\n",
       "        text-align: right;\n",
       "    }\n",
       "</style>\n",
       "<table border=\"1\" class=\"dataframe\">\n",
       "  <thead>\n",
       "    <tr style=\"text-align: right;\">\n",
       "      <th></th>\n",
       "      <th>id</th>\n",
       "      <th>bedrooms</th>\n",
       "      <th>bathrooms</th>\n",
       "      <th>sqft_living</th>\n",
       "      <th>sqft_lot</th>\n",
       "      <th>floors</th>\n",
       "      <th>waterfront</th>\n",
       "      <th>view</th>\n",
       "      <th>condition</th>\n",
       "      <th>grade</th>\n",
       "      <th>...</th>\n",
       "      <th>yr_built</th>\n",
       "      <th>yr_renovated</th>\n",
       "      <th>zipcode</th>\n",
       "      <th>lat</th>\n",
       "      <th>long</th>\n",
       "      <th>sqft_living15</th>\n",
       "      <th>sqft_lot15</th>\n",
       "      <th>price</th>\n",
       "      <th>month_sold</th>\n",
       "      <th>year_sold</th>\n",
       "    </tr>\n",
       "  </thead>\n",
       "  <tbody>\n",
       "    <tr>\n",
       "      <th>6243</th>\n",
       "      <td>9834201100</td>\n",
       "      <td>4</td>\n",
       "      <td>2.00</td>\n",
       "      <td>1440</td>\n",
       "      <td>4855</td>\n",
       "      <td>2.0</td>\n",
       "      <td>0</td>\n",
       "      <td>0</td>\n",
       "      <td>4</td>\n",
       "      <td>7</td>\n",
       "      <td>...</td>\n",
       "      <td>1972</td>\n",
       "      <td>0.0</td>\n",
       "      <td>98144</td>\n",
       "      <td>47.5717</td>\n",
       "      <td>-122.287</td>\n",
       "      <td>1300</td>\n",
       "      <td>4080</td>\n",
       "      <td>332500.0</td>\n",
       "      <td>12</td>\n",
       "      <td>2014</td>\n",
       "    </tr>\n",
       "    <tr>\n",
       "      <th>8986</th>\n",
       "      <td>7795810110</td>\n",
       "      <td>3</td>\n",
       "      <td>1.75</td>\n",
       "      <td>1430</td>\n",
       "      <td>9857</td>\n",
       "      <td>1.0</td>\n",
       "      <td>0</td>\n",
       "      <td>2</td>\n",
       "      <td>4</td>\n",
       "      <td>7</td>\n",
       "      <td>...</td>\n",
       "      <td>1980</td>\n",
       "      <td>0.0</td>\n",
       "      <td>98045</td>\n",
       "      <td>47.4964</td>\n",
       "      <td>-121.771</td>\n",
       "      <td>1310</td>\n",
       "      <td>9880</td>\n",
       "      <td>390000.0</td>\n",
       "      <td>5</td>\n",
       "      <td>2015</td>\n",
       "    </tr>\n",
       "    <tr>\n",
       "      <th>9419</th>\n",
       "      <td>1853081250</td>\n",
       "      <td>4</td>\n",
       "      <td>2.75</td>\n",
       "      <td>3120</td>\n",
       "      <td>5000</td>\n",
       "      <td>2.0</td>\n",
       "      <td>0</td>\n",
       "      <td>0</td>\n",
       "      <td>3</td>\n",
       "      <td>9</td>\n",
       "      <td>...</td>\n",
       "      <td>2010</td>\n",
       "      <td>0.0</td>\n",
       "      <td>98074</td>\n",
       "      <td>47.5940</td>\n",
       "      <td>-122.062</td>\n",
       "      <td>3200</td>\n",
       "      <td>5000</td>\n",
       "      <td>800000.0</td>\n",
       "      <td>12</td>\n",
       "      <td>2014</td>\n",
       "    </tr>\n",
       "    <tr>\n",
       "      <th>10155</th>\n",
       "      <td>2558630350</td>\n",
       "      <td>4</td>\n",
       "      <td>2.50</td>\n",
       "      <td>2060</td>\n",
       "      <td>6958</td>\n",
       "      <td>1.0</td>\n",
       "      <td>0</td>\n",
       "      <td>0</td>\n",
       "      <td>3</td>\n",
       "      <td>7</td>\n",
       "      <td>...</td>\n",
       "      <td>1974</td>\n",
       "      <td>0.0</td>\n",
       "      <td>98034</td>\n",
       "      <td>47.7251</td>\n",
       "      <td>-122.168</td>\n",
       "      <td>1760</td>\n",
       "      <td>7350</td>\n",
       "      <td>462000.0</td>\n",
       "      <td>3</td>\n",
       "      <td>2015</td>\n",
       "    </tr>\n",
       "    <tr>\n",
       "      <th>10436</th>\n",
       "      <td>3362401000</td>\n",
       "      <td>3</td>\n",
       "      <td>2.00</td>\n",
       "      <td>2500</td>\n",
       "      <td>4080</td>\n",
       "      <td>1.5</td>\n",
       "      <td>0</td>\n",
       "      <td>0</td>\n",
       "      <td>5</td>\n",
       "      <td>7</td>\n",
       "      <td>...</td>\n",
       "      <td>1922</td>\n",
       "      <td>0.0</td>\n",
       "      <td>98103</td>\n",
       "      <td>47.6813</td>\n",
       "      <td>-122.346</td>\n",
       "      <td>1550</td>\n",
       "      <td>3060</td>\n",
       "      <td>695000.0</td>\n",
       "      <td>7</td>\n",
       "      <td>2014</td>\n",
       "    </tr>\n",
       "  </tbody>\n",
       "</table>\n",
       "<p>5 rows × 22 columns</p>\n",
       "</div>"
      ],
      "text/plain": [
       "               id  bedrooms  bathrooms  sqft_living  sqft_lot  floors  \\\n",
       "6243   9834201100         4       2.00         1440      4855     2.0   \n",
       "8986   7795810110         3       1.75         1430      9857     1.0   \n",
       "9419   1853081250         4       2.75         3120      5000     2.0   \n",
       "10155  2558630350         4       2.50         2060      6958     1.0   \n",
       "10436  3362401000         3       2.00         2500      4080     1.5   \n",
       "\n",
       "       waterfront  view  condition  grade  ...  yr_built  yr_renovated  \\\n",
       "6243            0     0          4      7  ...      1972           0.0   \n",
       "8986            0     2          4      7  ...      1980           0.0   \n",
       "9419            0     0          3      9  ...      2010           0.0   \n",
       "10155           0     0          3      7  ...      1974           0.0   \n",
       "10436           0     0          5      7  ...      1922           0.0   \n",
       "\n",
       "       zipcode      lat     long  sqft_living15  sqft_lot15     price  \\\n",
       "6243     98144  47.5717 -122.287           1300        4080  332500.0   \n",
       "8986     98045  47.4964 -121.771           1310        9880  390000.0   \n",
       "9419     98074  47.5940 -122.062           3200        5000  800000.0   \n",
       "10155    98034  47.7251 -122.168           1760        7350  462000.0   \n",
       "10436    98103  47.6813 -122.346           1550        3060  695000.0   \n",
       "\n",
       "       month_sold  year_sold  \n",
       "6243           12       2014  \n",
       "8986            5       2015  \n",
       "9419           12       2014  \n",
       "10155           3       2015  \n",
       "10436           7       2014  \n",
       "\n",
       "[5 rows x 22 columns]"
      ]
     },
     "execution_count": 23,
     "metadata": {},
     "output_type": "execute_result"
    }
   ],
   "source": [
    "df.head()"
   ]
  },
  {
   "cell_type": "code",
   "execution_count": 24,
   "id": "338868a2",
   "metadata": {},
   "outputs": [
    {
     "data": {
      "image/png": "[encoded data removed]",
      "text/plain": [
       "<Figure size 1008x720 with 1 Axes>"
      ]
     },
     "metadata": {
      "needs_background": "light"
     },
     "output_type": "display_data"
    }
   ],
   "source": [
    "plt.figure(figsize=(14, 10))\n",
    "plt.title('Home Location vs. Price')\n",
    "sns.scatterplot(df['long'], df['lat'], hue=df['price'])#, palette='RdBu', alpha=0.3)\n",
    "plt.xlabel('Longitude')\n",
    "plt.ylabel('Latitude')\n",
    "plt.tight_layout()"
   ]
  },
  {
   "cell_type": "markdown",
   "id": "f3e3576e",
   "metadata": {},
   "source": [
    "# Model 1 - Using All Features"
   ]
  },
  {
   "cell_type": "markdown",
   "id": "aa556ddb",
   "metadata": {},
   "source": [
    "###### X = df.drop('price', axis=1)\n",
    "y = df['price']\n",
    "model_1 = sm.OLS(y, sm.add_constant(X)).fit()\n",
    "model_1.summary()"
   ]
  },
  {
   "cell_type": "code",
   "execution_count": 28,
   "id": "561ea6ce",
   "metadata": {},
   "outputs": [],
   "source": [
    "def clean_data_model_1(df):\n",
    "    '''\n",
    "    Takes in a pandas dataframe\n",
    "    Applies cleaning methods for current project\n",
    "    returns cleaned dataset\n",
    "    '''\n",
    "    \n",
    "    # Fill NaN values with most commom occurances\n",
    "    df['view'].fillna('NONE', inplace=True)\n",
    "    df['waterfront'].fillna('NO', inplace=True)\n",
    "    df['yr_renovated'].fillna(0.0, inplace=True)\n",
    "    \n",
    "    # Convert grade to int\n",
    "    df['grade'] = df['grade'].apply(lambda x: x[:2] if x[0]=='1' else x[:1]).astype('int64')\n",
    "    \n",
    "    # Remove ? and convert sqft_basement to int\n",
    "    df['sqft_basement'] = df['sqft_basement'].apply(lambda x: 0 if x=='?' else int(x.split('.')[0]))\n",
    "    \n",
    "    # Change waterfront to numeric\n",
    "    df['waterfront'] = df['waterfront'].apply(lambda x: 1 if x=='YES' else 0)\n",
    "    \n",
    "    # Change view to numeric\n",
    "    df['view'] = df['view'].apply(lambda x: 0 if x=='NONE' else (1 if x=='FAIR' else (2 if x=='AVERAGE' else (3 if x=='GOOD' else 4))))\n",
    "    \n",
    "    # Change condition to numeric\n",
    "    df['condition'] = df['condition'].apply(lambda x: 1 if x=='Poor' else (2 if x=='Fair' else (3 if x=='Average' else (4 if x=='Good' else 5))))\n",
    "    \n",
    "    #Convert date column to 2 separate columns for month and year\n",
    "    date = df['date'].str.split('/', expand=True)\n",
    "    df['month_sold'] = date[0].astype('int64')\n",
    "    df['year_sold'] = date[2].astype('int64')\n",
    "\n",
    "    #Drop original date column\n",
    "    df.drop(columns=['date'], axis=1, inplace=True)\n",
    "    return df"
   ]
  },
  {
   "cell_type": "code",
   "execution_count": 29,
   "id": "d3d39db2",
   "metadata": {},
   "outputs": [
    {
     "ename": "ValueError",
     "evalue": "could not convert string to float: '10/13/2014'",
     "output_type": "error",
     "traceback": [
      "\u001b[1;31m---------------------------------------------------------------------------\u001b[0m",
      "\u001b[1;31mValueError\u001b[0m                                Traceback (most recent call last)",
      "\u001b[1;32m~\\AppData\\Local\\Temp/ipykernel_10940/1570467544.py\u001b[0m in \u001b[0;36m<module>\u001b[1;34m\u001b[0m\n\u001b[0;32m      1\u001b[0m \u001b[0mLR\u001b[0m \u001b[1;33m=\u001b[0m \u001b[0mLinearRegression\u001b[0m\u001b[1;33m(\u001b[0m\u001b[1;33m)\u001b[0m\u001b[1;33m\u001b[0m\u001b[1;33m\u001b[0m\u001b[0m\n\u001b[1;32m----> 2\u001b[1;33m \u001b[0mLR\u001b[0m\u001b[1;33m.\u001b[0m\u001b[0mfit\u001b[0m\u001b[1;33m(\u001b[0m\u001b[0mX\u001b[0m\u001b[1;33m,\u001b[0m\u001b[0my\u001b[0m\u001b[1;33m)\u001b[0m\u001b[1;33m\u001b[0m\u001b[1;33m\u001b[0m\u001b[0m\n\u001b[0m",
      "\u001b[1;32m~\\anaconda3\\lib\\site-packages\\sklearn\\linear_model\\_base.py\u001b[0m in \u001b[0;36mfit\u001b[1;34m(self, X, y, sample_weight)\u001b[0m\n\u001b[0;32m    516\u001b[0m         \u001b[0maccept_sparse\u001b[0m \u001b[1;33m=\u001b[0m \u001b[1;32mFalse\u001b[0m \u001b[1;32mif\u001b[0m \u001b[0mself\u001b[0m\u001b[1;33m.\u001b[0m\u001b[0mpositive\u001b[0m \u001b[1;32melse\u001b[0m \u001b[1;33m[\u001b[0m\u001b[1;34m'csr'\u001b[0m\u001b[1;33m,\u001b[0m \u001b[1;34m'csc'\u001b[0m\u001b[1;33m,\u001b[0m \u001b[1;34m'coo'\u001b[0m\u001b[1;33m]\u001b[0m\u001b[1;33m\u001b[0m\u001b[1;33m\u001b[0m\u001b[0m\n\u001b[0;32m    517\u001b[0m \u001b[1;33m\u001b[0m\u001b[0m\n\u001b[1;32m--> 518\u001b[1;33m         X, y = self._validate_data(X, y, accept_sparse=accept_sparse,\n\u001b[0m\u001b[0;32m    519\u001b[0m                                    y_numeric=True, multi_output=True)\n\u001b[0;32m    520\u001b[0m \u001b[1;33m\u001b[0m\u001b[0m\n",
      "\u001b[1;32m~\\anaconda3\\lib\\site-packages\\sklearn\\base.py\u001b[0m in \u001b[0;36m_validate_data\u001b[1;34m(self, X, y, reset, validate_separately, **check_params)\u001b[0m\n\u001b[0;32m    431\u001b[0m                 \u001b[0my\u001b[0m \u001b[1;33m=\u001b[0m \u001b[0mcheck_array\u001b[0m\u001b[1;33m(\u001b[0m\u001b[0my\u001b[0m\u001b[1;33m,\u001b[0m \u001b[1;33m**\u001b[0m\u001b[0mcheck_y_params\u001b[0m\u001b[1;33m)\u001b[0m\u001b[1;33m\u001b[0m\u001b[1;33m\u001b[0m\u001b[0m\n\u001b[0;32m    432\u001b[0m             \u001b[1;32melse\u001b[0m\u001b[1;33m:\u001b[0m\u001b[1;33m\u001b[0m\u001b[1;33m\u001b[0m\u001b[0m\n\u001b[1;32m--> 433\u001b[1;33m                 \u001b[0mX\u001b[0m\u001b[1;33m,\u001b[0m \u001b[0my\u001b[0m \u001b[1;33m=\u001b[0m \u001b[0mcheck_X_y\u001b[0m\u001b[1;33m(\u001b[0m\u001b[0mX\u001b[0m\u001b[1;33m,\u001b[0m \u001b[0my\u001b[0m\u001b[1;33m,\u001b[0m \u001b[1;33m**\u001b[0m\u001b[0mcheck_params\u001b[0m\u001b[1;33m)\u001b[0m\u001b[1;33m\u001b[0m\u001b[1;33m\u001b[0m\u001b[0m\n\u001b[0m\u001b[0;32m    434\u001b[0m             \u001b[0mout\u001b[0m \u001b[1;33m=\u001b[0m \u001b[0mX\u001b[0m\u001b[1;33m,\u001b[0m \u001b[0my\u001b[0m\u001b[1;33m\u001b[0m\u001b[1;33m\u001b[0m\u001b[0m\n\u001b[0;32m    435\u001b[0m \u001b[1;33m\u001b[0m\u001b[0m\n",
      "\u001b[1;32m~\\anaconda3\\lib\\site-packages\\sklearn\\utils\\validation.py\u001b[0m in \u001b[0;36minner_f\u001b[1;34m(*args, **kwargs)\u001b[0m\n\u001b[0;32m     61\u001b[0m             \u001b[0mextra_args\u001b[0m \u001b[1;33m=\u001b[0m \u001b[0mlen\u001b[0m\u001b[1;33m(\u001b[0m\u001b[0margs\u001b[0m\u001b[1;33m)\u001b[0m \u001b[1;33m-\u001b[0m \u001b[0mlen\u001b[0m\u001b[1;33m(\u001b[0m\u001b[0mall_args\u001b[0m\u001b[1;33m)\u001b[0m\u001b[1;33m\u001b[0m\u001b[1;33m\u001b[0m\u001b[0m\n\u001b[0;32m     62\u001b[0m             \u001b[1;32mif\u001b[0m \u001b[0mextra_args\u001b[0m \u001b[1;33m<=\u001b[0m \u001b[1;36m0\u001b[0m\u001b[1;33m:\u001b[0m\u001b[1;33m\u001b[0m\u001b[1;33m\u001b[0m\u001b[0m\n\u001b[1;32m---> 63\u001b[1;33m                 \u001b[1;32mreturn\u001b[0m \u001b[0mf\u001b[0m\u001b[1;33m(\u001b[0m\u001b[1;33m*\u001b[0m\u001b[0margs\u001b[0m\u001b[1;33m,\u001b[0m \u001b[1;33m**\u001b[0m\u001b[0mkwargs\u001b[0m\u001b[1;33m)\u001b[0m\u001b[1;33m\u001b[0m\u001b[1;33m\u001b[0m\u001b[0m\n\u001b[0m\u001b[0;32m     64\u001b[0m \u001b[1;33m\u001b[0m\u001b[0m\n\u001b[0;32m     65\u001b[0m             \u001b[1;31m# extra_args > 0\u001b[0m\u001b[1;33m\u001b[0m\u001b[1;33m\u001b[0m\u001b[0m\n",
      "\u001b[1;32m~\\anaconda3\\lib\\site-packages\\sklearn\\utils\\validation.py\u001b[0m in \u001b[0;36mcheck_X_y\u001b[1;34m(X, y, accept_sparse, accept_large_sparse, dtype, order, copy, force_all_finite, ensure_2d, allow_nd, multi_output, ensure_min_samples, ensure_min_features, y_numeric, estimator)\u001b[0m\n\u001b[0;32m    869\u001b[0m         \u001b[1;32mraise\u001b[0m \u001b[0mValueError\u001b[0m\u001b[1;33m(\u001b[0m\u001b[1;34m\"y cannot be None\"\u001b[0m\u001b[1;33m)\u001b[0m\u001b[1;33m\u001b[0m\u001b[1;33m\u001b[0m\u001b[0m\n\u001b[0;32m    870\u001b[0m \u001b[1;33m\u001b[0m\u001b[0m\n\u001b[1;32m--> 871\u001b[1;33m     X = check_array(X, accept_sparse=accept_sparse,\n\u001b[0m\u001b[0;32m    872\u001b[0m                     \u001b[0maccept_large_sparse\u001b[0m\u001b[1;33m=\u001b[0m\u001b[0maccept_large_sparse\u001b[0m\u001b[1;33m,\u001b[0m\u001b[1;33m\u001b[0m\u001b[1;33m\u001b[0m\u001b[0m\n\u001b[0;32m    873\u001b[0m                     \u001b[0mdtype\u001b[0m\u001b[1;33m=\u001b[0m\u001b[0mdtype\u001b[0m\u001b[1;33m,\u001b[0m \u001b[0morder\u001b[0m\u001b[1;33m=\u001b[0m\u001b[0morder\u001b[0m\u001b[1;33m,\u001b[0m \u001b[0mcopy\u001b[0m\u001b[1;33m=\u001b[0m\u001b[0mcopy\u001b[0m\u001b[1;33m,\u001b[0m\u001b[1;33m\u001b[0m\u001b[1;33m\u001b[0m\u001b[0m\n",
      "\u001b[1;32m~\\anaconda3\\lib\\site-packages\\sklearn\\utils\\validation.py\u001b[0m in \u001b[0;36minner_f\u001b[1;34m(*args, **kwargs)\u001b[0m\n\u001b[0;32m     61\u001b[0m             \u001b[0mextra_args\u001b[0m \u001b[1;33m=\u001b[0m \u001b[0mlen\u001b[0m\u001b[1;33m(\u001b[0m\u001b[0margs\u001b[0m\u001b[1;33m)\u001b[0m \u001b[1;33m-\u001b[0m \u001b[0mlen\u001b[0m\u001b[1;33m(\u001b[0m\u001b[0mall_args\u001b[0m\u001b[1;33m)\u001b[0m\u001b[1;33m\u001b[0m\u001b[1;33m\u001b[0m\u001b[0m\n\u001b[0;32m     62\u001b[0m             \u001b[1;32mif\u001b[0m \u001b[0mextra_args\u001b[0m \u001b[1;33m<=\u001b[0m \u001b[1;36m0\u001b[0m\u001b[1;33m:\u001b[0m\u001b[1;33m\u001b[0m\u001b[1;33m\u001b[0m\u001b[0m\n\u001b[1;32m---> 63\u001b[1;33m                 \u001b[1;32mreturn\u001b[0m \u001b[0mf\u001b[0m\u001b[1;33m(\u001b[0m\u001b[1;33m*\u001b[0m\u001b[0margs\u001b[0m\u001b[1;33m,\u001b[0m \u001b[1;33m**\u001b[0m\u001b[0mkwargs\u001b[0m\u001b[1;33m)\u001b[0m\u001b[1;33m\u001b[0m\u001b[1;33m\u001b[0m\u001b[0m\n\u001b[0m\u001b[0;32m     64\u001b[0m \u001b[1;33m\u001b[0m\u001b[0m\n\u001b[0;32m     65\u001b[0m             \u001b[1;31m# extra_args > 0\u001b[0m\u001b[1;33m\u001b[0m\u001b[1;33m\u001b[0m\u001b[0m\n",
      "\u001b[1;32m~\\anaconda3\\lib\\site-packages\\sklearn\\utils\\validation.py\u001b[0m in \u001b[0;36mcheck_array\u001b[1;34m(array, accept_sparse, accept_large_sparse, dtype, order, copy, force_all_finite, ensure_2d, allow_nd, ensure_min_samples, ensure_min_features, estimator)\u001b[0m\n\u001b[0;32m    671\u001b[0m                     \u001b[0marray\u001b[0m \u001b[1;33m=\u001b[0m \u001b[0marray\u001b[0m\u001b[1;33m.\u001b[0m\u001b[0mastype\u001b[0m\u001b[1;33m(\u001b[0m\u001b[0mdtype\u001b[0m\u001b[1;33m,\u001b[0m \u001b[0mcasting\u001b[0m\u001b[1;33m=\u001b[0m\u001b[1;34m\"unsafe\"\u001b[0m\u001b[1;33m,\u001b[0m \u001b[0mcopy\u001b[0m\u001b[1;33m=\u001b[0m\u001b[1;32mFalse\u001b[0m\u001b[1;33m)\u001b[0m\u001b[1;33m\u001b[0m\u001b[1;33m\u001b[0m\u001b[0m\n\u001b[0;32m    672\u001b[0m                 \u001b[1;32melse\u001b[0m\u001b[1;33m:\u001b[0m\u001b[1;33m\u001b[0m\u001b[1;33m\u001b[0m\u001b[0m\n\u001b[1;32m--> 673\u001b[1;33m                     \u001b[0marray\u001b[0m \u001b[1;33m=\u001b[0m \u001b[0mnp\u001b[0m\u001b[1;33m.\u001b[0m\u001b[0masarray\u001b[0m\u001b[1;33m(\u001b[0m\u001b[0marray\u001b[0m\u001b[1;33m,\u001b[0m \u001b[0morder\u001b[0m\u001b[1;33m=\u001b[0m\u001b[0morder\u001b[0m\u001b[1;33m,\u001b[0m \u001b[0mdtype\u001b[0m\u001b[1;33m=\u001b[0m\u001b[0mdtype\u001b[0m\u001b[1;33m)\u001b[0m\u001b[1;33m\u001b[0m\u001b[1;33m\u001b[0m\u001b[0m\n\u001b[0m\u001b[0;32m    674\u001b[0m             \u001b[1;32mexcept\u001b[0m \u001b[0mComplexWarning\u001b[0m \u001b[1;32mas\u001b[0m \u001b[0mcomplex_warning\u001b[0m\u001b[1;33m:\u001b[0m\u001b[1;33m\u001b[0m\u001b[1;33m\u001b[0m\u001b[0m\n\u001b[0;32m    675\u001b[0m                 raise ValueError(\"Complex data not supported\\n\"\n",
      "\u001b[1;32m~\\anaconda3\\lib\\site-packages\\numpy\\core\\_asarray.py\u001b[0m in \u001b[0;36masarray\u001b[1;34m(a, dtype, order, like)\u001b[0m\n\u001b[0;32m    100\u001b[0m         \u001b[1;32mreturn\u001b[0m \u001b[0m_asarray_with_like\u001b[0m\u001b[1;33m(\u001b[0m\u001b[0ma\u001b[0m\u001b[1;33m,\u001b[0m \u001b[0mdtype\u001b[0m\u001b[1;33m=\u001b[0m\u001b[0mdtype\u001b[0m\u001b[1;33m,\u001b[0m \u001b[0morder\u001b[0m\u001b[1;33m=\u001b[0m\u001b[0morder\u001b[0m\u001b[1;33m,\u001b[0m \u001b[0mlike\u001b[0m\u001b[1;33m=\u001b[0m\u001b[0mlike\u001b[0m\u001b[1;33m)\u001b[0m\u001b[1;33m\u001b[0m\u001b[1;33m\u001b[0m\u001b[0m\n\u001b[0;32m    101\u001b[0m \u001b[1;33m\u001b[0m\u001b[0m\n\u001b[1;32m--> 102\u001b[1;33m     \u001b[1;32mreturn\u001b[0m \u001b[0marray\u001b[0m\u001b[1;33m(\u001b[0m\u001b[0ma\u001b[0m\u001b[1;33m,\u001b[0m \u001b[0mdtype\u001b[0m\u001b[1;33m,\u001b[0m \u001b[0mcopy\u001b[0m\u001b[1;33m=\u001b[0m\u001b[1;32mFalse\u001b[0m\u001b[1;33m,\u001b[0m \u001b[0morder\u001b[0m\u001b[1;33m=\u001b[0m\u001b[0morder\u001b[0m\u001b[1;33m)\u001b[0m\u001b[1;33m\u001b[0m\u001b[1;33m\u001b[0m\u001b[0m\n\u001b[0m\u001b[0;32m    103\u001b[0m \u001b[1;33m\u001b[0m\u001b[0m\n\u001b[0;32m    104\u001b[0m \u001b[1;33m\u001b[0m\u001b[0m\n",
      "\u001b[1;32m~\\anaconda3\\lib\\site-packages\\pandas\\core\\generic.py\u001b[0m in \u001b[0;36m__array__\u001b[1;34m(self, dtype)\u001b[0m\n\u001b[0;32m   1991\u001b[0m \u001b[1;33m\u001b[0m\u001b[0m\n\u001b[0;32m   1992\u001b[0m     \u001b[1;32mdef\u001b[0m \u001b[0m__array__\u001b[0m\u001b[1;33m(\u001b[0m\u001b[0mself\u001b[0m\u001b[1;33m,\u001b[0m \u001b[0mdtype\u001b[0m\u001b[1;33m:\u001b[0m \u001b[0mNpDtype\u001b[0m \u001b[1;33m|\u001b[0m \u001b[1;32mNone\u001b[0m \u001b[1;33m=\u001b[0m \u001b[1;32mNone\u001b[0m\u001b[1;33m)\u001b[0m \u001b[1;33m->\u001b[0m \u001b[0mnp\u001b[0m\u001b[1;33m.\u001b[0m\u001b[0mndarray\u001b[0m\u001b[1;33m:\u001b[0m\u001b[1;33m\u001b[0m\u001b[1;33m\u001b[0m\u001b[0m\n\u001b[1;32m-> 1993\u001b[1;33m         \u001b[1;32mreturn\u001b[0m \u001b[0mnp\u001b[0m\u001b[1;33m.\u001b[0m\u001b[0masarray\u001b[0m\u001b[1;33m(\u001b[0m\u001b[0mself\u001b[0m\u001b[1;33m.\u001b[0m\u001b[0m_values\u001b[0m\u001b[1;33m,\u001b[0m \u001b[0mdtype\u001b[0m\u001b[1;33m=\u001b[0m\u001b[0mdtype\u001b[0m\u001b[1;33m)\u001b[0m\u001b[1;33m\u001b[0m\u001b[1;33m\u001b[0m\u001b[0m\n\u001b[0m\u001b[0;32m   1994\u001b[0m \u001b[1;33m\u001b[0m\u001b[0m\n\u001b[0;32m   1995\u001b[0m     def __array_wrap__(\n",
      "\u001b[1;32m~\\anaconda3\\lib\\site-packages\\numpy\\core\\_asarray.py\u001b[0m in \u001b[0;36masarray\u001b[1;34m(a, dtype, order, like)\u001b[0m\n\u001b[0;32m    100\u001b[0m         \u001b[1;32mreturn\u001b[0m \u001b[0m_asarray_with_like\u001b[0m\u001b[1;33m(\u001b[0m\u001b[0ma\u001b[0m\u001b[1;33m,\u001b[0m \u001b[0mdtype\u001b[0m\u001b[1;33m=\u001b[0m\u001b[0mdtype\u001b[0m\u001b[1;33m,\u001b[0m \u001b[0morder\u001b[0m\u001b[1;33m=\u001b[0m\u001b[0morder\u001b[0m\u001b[1;33m,\u001b[0m \u001b[0mlike\u001b[0m\u001b[1;33m=\u001b[0m\u001b[0mlike\u001b[0m\u001b[1;33m)\u001b[0m\u001b[1;33m\u001b[0m\u001b[1;33m\u001b[0m\u001b[0m\n\u001b[0;32m    101\u001b[0m \u001b[1;33m\u001b[0m\u001b[0m\n\u001b[1;32m--> 102\u001b[1;33m     \u001b[1;32mreturn\u001b[0m \u001b[0marray\u001b[0m\u001b[1;33m(\u001b[0m\u001b[0ma\u001b[0m\u001b[1;33m,\u001b[0m \u001b[0mdtype\u001b[0m\u001b[1;33m,\u001b[0m \u001b[0mcopy\u001b[0m\u001b[1;33m=\u001b[0m\u001b[1;32mFalse\u001b[0m\u001b[1;33m,\u001b[0m \u001b[0morder\u001b[0m\u001b[1;33m=\u001b[0m\u001b[0morder\u001b[0m\u001b[1;33m)\u001b[0m\u001b[1;33m\u001b[0m\u001b[1;33m\u001b[0m\u001b[0m\n\u001b[0m\u001b[0;32m    103\u001b[0m \u001b[1;33m\u001b[0m\u001b[0m\n\u001b[0;32m    104\u001b[0m \u001b[1;33m\u001b[0m\u001b[0m\n",
      "\u001b[1;31mValueError\u001b[0m: could not convert string to float: '10/13/2014'"
     ]
    }
   ],
   "source": []
  },
  {
   "cell_type": "code",
   "execution_count": 30,
   "id": "0dcf9f9b",
   "metadata": {},
   "outputs": [],
   "source": [
    "to_clean = X_test\n",
    "X_test['price'] = y_test"
   ]
  },
  {
   "cell_type": "code",
   "execution_count": 31,
   "id": "05c88337",
   "metadata": {},
   "outputs": [],
   "source": [
    "# Clean test according to cahnges so far\n",
    "cleaned_X_test_1 = clean_data_model_1(to_clean)"
   ]
  },
  {
   "cell_type": "code",
   "execution_count": 32,
   "id": "5e3f5d90",
   "metadata": {},
   "outputs": [],
   "source": [
    "y_test = cleaned_X_test_1['price']\n",
    "X_test = cleaned_X_test_1.drop('price', axis=1)"
   ]
  },
  {
   "cell_type": "code",
   "execution_count": 34,
   "id": "89acf9dc",
   "metadata": {},
   "outputs": [
    {
     "ename": "ValueError",
     "evalue": "could not convert string to float: '10/13/2014'",
     "output_type": "error",
     "traceback": [
      "\u001b[1;31m---------------------------------------------------------------------------\u001b[0m",
      "\u001b[1;31mValueError\u001b[0m                                Traceback (most recent call last)",
      "\u001b[1;32m~\\AppData\\Local\\Temp/ipykernel_10940/1570467544.py\u001b[0m in \u001b[0;36m<module>\u001b[1;34m\u001b[0m\n\u001b[0;32m      1\u001b[0m \u001b[0mLR\u001b[0m \u001b[1;33m=\u001b[0m \u001b[0mLinearRegression\u001b[0m\u001b[1;33m(\u001b[0m\u001b[1;33m)\u001b[0m\u001b[1;33m\u001b[0m\u001b[1;33m\u001b[0m\u001b[0m\n\u001b[1;32m----> 2\u001b[1;33m \u001b[0mLR\u001b[0m\u001b[1;33m.\u001b[0m\u001b[0mfit\u001b[0m\u001b[1;33m(\u001b[0m\u001b[0mX\u001b[0m\u001b[1;33m,\u001b[0m\u001b[0my\u001b[0m\u001b[1;33m)\u001b[0m\u001b[1;33m\u001b[0m\u001b[1;33m\u001b[0m\u001b[0m\n\u001b[0m",
      "\u001b[1;32m~\\anaconda3\\lib\\site-packages\\sklearn\\linear_model\\_base.py\u001b[0m in \u001b[0;36mfit\u001b[1;34m(self, X, y, sample_weight)\u001b[0m\n\u001b[0;32m    516\u001b[0m         \u001b[0maccept_sparse\u001b[0m \u001b[1;33m=\u001b[0m \u001b[1;32mFalse\u001b[0m \u001b[1;32mif\u001b[0m \u001b[0mself\u001b[0m\u001b[1;33m.\u001b[0m\u001b[0mpositive\u001b[0m \u001b[1;32melse\u001b[0m \u001b[1;33m[\u001b[0m\u001b[1;34m'csr'\u001b[0m\u001b[1;33m,\u001b[0m \u001b[1;34m'csc'\u001b[0m\u001b[1;33m,\u001b[0m \u001b[1;34m'coo'\u001b[0m\u001b[1;33m]\u001b[0m\u001b[1;33m\u001b[0m\u001b[1;33m\u001b[0m\u001b[0m\n\u001b[0;32m    517\u001b[0m \u001b[1;33m\u001b[0m\u001b[0m\n\u001b[1;32m--> 518\u001b[1;33m         X, y = self._validate_data(X, y, accept_sparse=accept_sparse,\n\u001b[0m\u001b[0;32m    519\u001b[0m                                    y_numeric=True, multi_output=True)\n\u001b[0;32m    520\u001b[0m \u001b[1;33m\u001b[0m\u001b[0m\n",
      "\u001b[1;32m~\\anaconda3\\lib\\site-packages\\sklearn\\base.py\u001b[0m in \u001b[0;36m_validate_data\u001b[1;34m(self, X, y, reset, validate_separately, **check_params)\u001b[0m\n\u001b[0;32m    431\u001b[0m                 \u001b[0my\u001b[0m \u001b[1;33m=\u001b[0m \u001b[0mcheck_array\u001b[0m\u001b[1;33m(\u001b[0m\u001b[0my\u001b[0m\u001b[1;33m,\u001b[0m \u001b[1;33m**\u001b[0m\u001b[0mcheck_y_params\u001b[0m\u001b[1;33m)\u001b[0m\u001b[1;33m\u001b[0m\u001b[1;33m\u001b[0m\u001b[0m\n\u001b[0;32m    432\u001b[0m             \u001b[1;32melse\u001b[0m\u001b[1;33m:\u001b[0m\u001b[1;33m\u001b[0m\u001b[1;33m\u001b[0m\u001b[0m\n\u001b[1;32m--> 433\u001b[1;33m                 \u001b[0mX\u001b[0m\u001b[1;33m,\u001b[0m \u001b[0my\u001b[0m \u001b[1;33m=\u001b[0m \u001b[0mcheck_X_y\u001b[0m\u001b[1;33m(\u001b[0m\u001b[0mX\u001b[0m\u001b[1;33m,\u001b[0m \u001b[0my\u001b[0m\u001b[1;33m,\u001b[0m \u001b[1;33m**\u001b[0m\u001b[0mcheck_params\u001b[0m\u001b[1;33m)\u001b[0m\u001b[1;33m\u001b[0m\u001b[1;33m\u001b[0m\u001b[0m\n\u001b[0m\u001b[0;32m    434\u001b[0m             \u001b[0mout\u001b[0m \u001b[1;33m=\u001b[0m \u001b[0mX\u001b[0m\u001b[1;33m,\u001b[0m \u001b[0my\u001b[0m\u001b[1;33m\u001b[0m\u001b[1;33m\u001b[0m\u001b[0m\n\u001b[0;32m    435\u001b[0m \u001b[1;33m\u001b[0m\u001b[0m\n",
      "\u001b[1;32m~\\anaconda3\\lib\\site-packages\\sklearn\\utils\\validation.py\u001b[0m in \u001b[0;36minner_f\u001b[1;34m(*args, **kwargs)\u001b[0m\n\u001b[0;32m     61\u001b[0m             \u001b[0mextra_args\u001b[0m \u001b[1;33m=\u001b[0m \u001b[0mlen\u001b[0m\u001b[1;33m(\u001b[0m\u001b[0margs\u001b[0m\u001b[1;33m)\u001b[0m \u001b[1;33m-\u001b[0m \u001b[0mlen\u001b[0m\u001b[1;33m(\u001b[0m\u001b[0mall_args\u001b[0m\u001b[1;33m)\u001b[0m\u001b[1;33m\u001b[0m\u001b[1;33m\u001b[0m\u001b[0m\n\u001b[0;32m     62\u001b[0m             \u001b[1;32mif\u001b[0m \u001b[0mextra_args\u001b[0m \u001b[1;33m<=\u001b[0m \u001b[1;36m0\u001b[0m\u001b[1;33m:\u001b[0m\u001b[1;33m\u001b[0m\u001b[1;33m\u001b[0m\u001b[0m\n\u001b[1;32m---> 63\u001b[1;33m                 \u001b[1;32mreturn\u001b[0m \u001b[0mf\u001b[0m\u001b[1;33m(\u001b[0m\u001b[1;33m*\u001b[0m\u001b[0margs\u001b[0m\u001b[1;33m,\u001b[0m \u001b[1;33m**\u001b[0m\u001b[0mkwargs\u001b[0m\u001b[1;33m)\u001b[0m\u001b[1;33m\u001b[0m\u001b[1;33m\u001b[0m\u001b[0m\n\u001b[0m\u001b[0;32m     64\u001b[0m \u001b[1;33m\u001b[0m\u001b[0m\n\u001b[0;32m     65\u001b[0m             \u001b[1;31m# extra_args > 0\u001b[0m\u001b[1;33m\u001b[0m\u001b[1;33m\u001b[0m\u001b[0m\n",
      "\u001b[1;32m~\\anaconda3\\lib\\site-packages\\sklearn\\utils\\validation.py\u001b[0m in \u001b[0;36mcheck_X_y\u001b[1;34m(X, y, accept_sparse, accept_large_sparse, dtype, order, copy, force_all_finite, ensure_2d, allow_nd, multi_output, ensure_min_samples, ensure_min_features, y_numeric, estimator)\u001b[0m\n\u001b[0;32m    869\u001b[0m         \u001b[1;32mraise\u001b[0m \u001b[0mValueError\u001b[0m\u001b[1;33m(\u001b[0m\u001b[1;34m\"y cannot be None\"\u001b[0m\u001b[1;33m)\u001b[0m\u001b[1;33m\u001b[0m\u001b[1;33m\u001b[0m\u001b[0m\n\u001b[0;32m    870\u001b[0m \u001b[1;33m\u001b[0m\u001b[0m\n\u001b[1;32m--> 871\u001b[1;33m     X = check_array(X, accept_sparse=accept_sparse,\n\u001b[0m\u001b[0;32m    872\u001b[0m                     \u001b[0maccept_large_sparse\u001b[0m\u001b[1;33m=\u001b[0m\u001b[0maccept_large_sparse\u001b[0m\u001b[1;33m,\u001b[0m\u001b[1;33m\u001b[0m\u001b[1;33m\u001b[0m\u001b[0m\n\u001b[0;32m    873\u001b[0m                     \u001b[0mdtype\u001b[0m\u001b[1;33m=\u001b[0m\u001b[0mdtype\u001b[0m\u001b[1;33m,\u001b[0m \u001b[0morder\u001b[0m\u001b[1;33m=\u001b[0m\u001b[0morder\u001b[0m\u001b[1;33m,\u001b[0m \u001b[0mcopy\u001b[0m\u001b[1;33m=\u001b[0m\u001b[0mcopy\u001b[0m\u001b[1;33m,\u001b[0m\u001b[1;33m\u001b[0m\u001b[1;33m\u001b[0m\u001b[0m\n",
      "\u001b[1;32m~\\anaconda3\\lib\\site-packages\\sklearn\\utils\\validation.py\u001b[0m in \u001b[0;36minner_f\u001b[1;34m(*args, **kwargs)\u001b[0m\n\u001b[0;32m     61\u001b[0m             \u001b[0mextra_args\u001b[0m \u001b[1;33m=\u001b[0m \u001b[0mlen\u001b[0m\u001b[1;33m(\u001b[0m\u001b[0margs\u001b[0m\u001b[1;33m)\u001b[0m \u001b[1;33m-\u001b[0m \u001b[0mlen\u001b[0m\u001b[1;33m(\u001b[0m\u001b[0mall_args\u001b[0m\u001b[1;33m)\u001b[0m\u001b[1;33m\u001b[0m\u001b[1;33m\u001b[0m\u001b[0m\n\u001b[0;32m     62\u001b[0m             \u001b[1;32mif\u001b[0m \u001b[0mextra_args\u001b[0m \u001b[1;33m<=\u001b[0m \u001b[1;36m0\u001b[0m\u001b[1;33m:\u001b[0m\u001b[1;33m\u001b[0m\u001b[1;33m\u001b[0m\u001b[0m\n\u001b[1;32m---> 63\u001b[1;33m                 \u001b[1;32mreturn\u001b[0m \u001b[0mf\u001b[0m\u001b[1;33m(\u001b[0m\u001b[1;33m*\u001b[0m\u001b[0margs\u001b[0m\u001b[1;33m,\u001b[0m \u001b[1;33m**\u001b[0m\u001b[0mkwargs\u001b[0m\u001b[1;33m)\u001b[0m\u001b[1;33m\u001b[0m\u001b[1;33m\u001b[0m\u001b[0m\n\u001b[0m\u001b[0;32m     64\u001b[0m \u001b[1;33m\u001b[0m\u001b[0m\n\u001b[0;32m     65\u001b[0m             \u001b[1;31m# extra_args > 0\u001b[0m\u001b[1;33m\u001b[0m\u001b[1;33m\u001b[0m\u001b[0m\n",
      "\u001b[1;32m~\\anaconda3\\lib\\site-packages\\sklearn\\utils\\validation.py\u001b[0m in \u001b[0;36mcheck_array\u001b[1;34m(array, accept_sparse, accept_large_sparse, dtype, order, copy, force_all_finite, ensure_2d, allow_nd, ensure_min_samples, ensure_min_features, estimator)\u001b[0m\n\u001b[0;32m    671\u001b[0m                     \u001b[0marray\u001b[0m \u001b[1;33m=\u001b[0m \u001b[0marray\u001b[0m\u001b[1;33m.\u001b[0m\u001b[0mastype\u001b[0m\u001b[1;33m(\u001b[0m\u001b[0mdtype\u001b[0m\u001b[1;33m,\u001b[0m \u001b[0mcasting\u001b[0m\u001b[1;33m=\u001b[0m\u001b[1;34m\"unsafe\"\u001b[0m\u001b[1;33m,\u001b[0m \u001b[0mcopy\u001b[0m\u001b[1;33m=\u001b[0m\u001b[1;32mFalse\u001b[0m\u001b[1;33m)\u001b[0m\u001b[1;33m\u001b[0m\u001b[1;33m\u001b[0m\u001b[0m\n\u001b[0;32m    672\u001b[0m                 \u001b[1;32melse\u001b[0m\u001b[1;33m:\u001b[0m\u001b[1;33m\u001b[0m\u001b[1;33m\u001b[0m\u001b[0m\n\u001b[1;32m--> 673\u001b[1;33m                     \u001b[0marray\u001b[0m \u001b[1;33m=\u001b[0m \u001b[0mnp\u001b[0m\u001b[1;33m.\u001b[0m\u001b[0masarray\u001b[0m\u001b[1;33m(\u001b[0m\u001b[0marray\u001b[0m\u001b[1;33m,\u001b[0m \u001b[0morder\u001b[0m\u001b[1;33m=\u001b[0m\u001b[0morder\u001b[0m\u001b[1;33m,\u001b[0m \u001b[0mdtype\u001b[0m\u001b[1;33m=\u001b[0m\u001b[0mdtype\u001b[0m\u001b[1;33m)\u001b[0m\u001b[1;33m\u001b[0m\u001b[1;33m\u001b[0m\u001b[0m\n\u001b[0m\u001b[0;32m    674\u001b[0m             \u001b[1;32mexcept\u001b[0m \u001b[0mComplexWarning\u001b[0m \u001b[1;32mas\u001b[0m \u001b[0mcomplex_warning\u001b[0m\u001b[1;33m:\u001b[0m\u001b[1;33m\u001b[0m\u001b[1;33m\u001b[0m\u001b[0m\n\u001b[0;32m    675\u001b[0m                 raise ValueError(\"Complex data not supported\\n\"\n",
      "\u001b[1;32m~\\anaconda3\\lib\\site-packages\\numpy\\core\\_asarray.py\u001b[0m in \u001b[0;36masarray\u001b[1;34m(a, dtype, order, like)\u001b[0m\n\u001b[0;32m    100\u001b[0m         \u001b[1;32mreturn\u001b[0m \u001b[0m_asarray_with_like\u001b[0m\u001b[1;33m(\u001b[0m\u001b[0ma\u001b[0m\u001b[1;33m,\u001b[0m \u001b[0mdtype\u001b[0m\u001b[1;33m=\u001b[0m\u001b[0mdtype\u001b[0m\u001b[1;33m,\u001b[0m \u001b[0morder\u001b[0m\u001b[1;33m=\u001b[0m\u001b[0morder\u001b[0m\u001b[1;33m,\u001b[0m \u001b[0mlike\u001b[0m\u001b[1;33m=\u001b[0m\u001b[0mlike\u001b[0m\u001b[1;33m)\u001b[0m\u001b[1;33m\u001b[0m\u001b[1;33m\u001b[0m\u001b[0m\n\u001b[0;32m    101\u001b[0m \u001b[1;33m\u001b[0m\u001b[0m\n\u001b[1;32m--> 102\u001b[1;33m     \u001b[1;32mreturn\u001b[0m \u001b[0marray\u001b[0m\u001b[1;33m(\u001b[0m\u001b[0ma\u001b[0m\u001b[1;33m,\u001b[0m \u001b[0mdtype\u001b[0m\u001b[1;33m,\u001b[0m \u001b[0mcopy\u001b[0m\u001b[1;33m=\u001b[0m\u001b[1;32mFalse\u001b[0m\u001b[1;33m,\u001b[0m \u001b[0morder\u001b[0m\u001b[1;33m=\u001b[0m\u001b[0morder\u001b[0m\u001b[1;33m)\u001b[0m\u001b[1;33m\u001b[0m\u001b[1;33m\u001b[0m\u001b[0m\n\u001b[0m\u001b[0;32m    103\u001b[0m \u001b[1;33m\u001b[0m\u001b[0m\n\u001b[0;32m    104\u001b[0m \u001b[1;33m\u001b[0m\u001b[0m\n",
      "\u001b[1;32m~\\anaconda3\\lib\\site-packages\\pandas\\core\\generic.py\u001b[0m in \u001b[0;36m__array__\u001b[1;34m(self, dtype)\u001b[0m\n\u001b[0;32m   1991\u001b[0m \u001b[1;33m\u001b[0m\u001b[0m\n\u001b[0;32m   1992\u001b[0m     \u001b[1;32mdef\u001b[0m \u001b[0m__array__\u001b[0m\u001b[1;33m(\u001b[0m\u001b[0mself\u001b[0m\u001b[1;33m,\u001b[0m \u001b[0mdtype\u001b[0m\u001b[1;33m:\u001b[0m \u001b[0mNpDtype\u001b[0m \u001b[1;33m|\u001b[0m \u001b[1;32mNone\u001b[0m \u001b[1;33m=\u001b[0m \u001b[1;32mNone\u001b[0m\u001b[1;33m)\u001b[0m \u001b[1;33m->\u001b[0m \u001b[0mnp\u001b[0m\u001b[1;33m.\u001b[0m\u001b[0mndarray\u001b[0m\u001b[1;33m:\u001b[0m\u001b[1;33m\u001b[0m\u001b[1;33m\u001b[0m\u001b[0m\n\u001b[1;32m-> 1993\u001b[1;33m         \u001b[1;32mreturn\u001b[0m \u001b[0mnp\u001b[0m\u001b[1;33m.\u001b[0m\u001b[0masarray\u001b[0m\u001b[1;33m(\u001b[0m\u001b[0mself\u001b[0m\u001b[1;33m.\u001b[0m\u001b[0m_values\u001b[0m\u001b[1;33m,\u001b[0m \u001b[0mdtype\u001b[0m\u001b[1;33m=\u001b[0m\u001b[0mdtype\u001b[0m\u001b[1;33m)\u001b[0m\u001b[1;33m\u001b[0m\u001b[1;33m\u001b[0m\u001b[0m\n\u001b[0m\u001b[0;32m   1994\u001b[0m \u001b[1;33m\u001b[0m\u001b[0m\n\u001b[0;32m   1995\u001b[0m     def __array_wrap__(\n",
      "\u001b[1;32m~\\anaconda3\\lib\\site-packages\\numpy\\core\\_asarray.py\u001b[0m in \u001b[0;36masarray\u001b[1;34m(a, dtype, order, like)\u001b[0m\n\u001b[0;32m    100\u001b[0m         \u001b[1;32mreturn\u001b[0m \u001b[0m_asarray_with_like\u001b[0m\u001b[1;33m(\u001b[0m\u001b[0ma\u001b[0m\u001b[1;33m,\u001b[0m \u001b[0mdtype\u001b[0m\u001b[1;33m=\u001b[0m\u001b[0mdtype\u001b[0m\u001b[1;33m,\u001b[0m \u001b[0morder\u001b[0m\u001b[1;33m=\u001b[0m\u001b[0morder\u001b[0m\u001b[1;33m,\u001b[0m \u001b[0mlike\u001b[0m\u001b[1;33m=\u001b[0m\u001b[0mlike\u001b[0m\u001b[1;33m)\u001b[0m\u001b[1;33m\u001b[0m\u001b[1;33m\u001b[0m\u001b[0m\n\u001b[0;32m    101\u001b[0m \u001b[1;33m\u001b[0m\u001b[0m\n\u001b[1;32m--> 102\u001b[1;33m     \u001b[1;32mreturn\u001b[0m \u001b[0marray\u001b[0m\u001b[1;33m(\u001b[0m\u001b[0ma\u001b[0m\u001b[1;33m,\u001b[0m \u001b[0mdtype\u001b[0m\u001b[1;33m,\u001b[0m \u001b[0mcopy\u001b[0m\u001b[1;33m=\u001b[0m\u001b[1;32mFalse\u001b[0m\u001b[1;33m,\u001b[0m \u001b[0morder\u001b[0m\u001b[1;33m=\u001b[0m\u001b[0morder\u001b[0m\u001b[1;33m)\u001b[0m\u001b[1;33m\u001b[0m\u001b[1;33m\u001b[0m\u001b[0m\n\u001b[0m\u001b[0;32m    103\u001b[0m \u001b[1;33m\u001b[0m\u001b[0m\n\u001b[0;32m    104\u001b[0m \u001b[1;33m\u001b[0m\u001b[0m\n",
      "\u001b[1;31mValueError\u001b[0m: could not convert string to float: '10/13/2014'"
     ]
    }
   ],
   "source": [
    "LR = LinearRegression()\n",
    "LR.fit(X,y)"
   ]
  },
  {
   "cell_type": "code",
   "execution_count": 33,
   "id": "6ae6ebbd",
   "metadata": {},
   "outputs": [
    {
     "ename": "NotFittedError",
     "evalue": "This LinearRegression instance is not fitted yet. Call 'fit' with appropriate arguments before using this estimator.",
     "output_type": "error",
     "traceback": [
      "\u001b[1;31m---------------------------------------------------------------------------\u001b[0m",
      "\u001b[1;31mNotFittedError\u001b[0m                            Traceback (most recent call last)",
      "\u001b[1;32m~\\AppData\\Local\\Temp/ipykernel_10940/1434185950.py\u001b[0m in \u001b[0;36m<module>\u001b[1;34m\u001b[0m\n\u001b[1;32m----> 1\u001b[1;33m \u001b[0my_prediction\u001b[0m \u001b[1;33m=\u001b[0m  \u001b[0mLR\u001b[0m\u001b[1;33m.\u001b[0m\u001b[0mpredict\u001b[0m\u001b[1;33m(\u001b[0m\u001b[0mX_test\u001b[0m\u001b[1;33m)\u001b[0m\u001b[1;33m\u001b[0m\u001b[1;33m\u001b[0m\u001b[0m\n\u001b[0m\u001b[0;32m      2\u001b[0m \u001b[0my_prediction\u001b[0m\u001b[1;33m\u001b[0m\u001b[1;33m\u001b[0m\u001b[0m\n",
      "\u001b[1;32m~\\anaconda3\\lib\\site-packages\\sklearn\\linear_model\\_base.py\u001b[0m in \u001b[0;36mpredict\u001b[1;34m(self, X)\u001b[0m\n\u001b[0;32m    236\u001b[0m             \u001b[0mReturns\u001b[0m \u001b[0mpredicted\u001b[0m \u001b[0mvalues\u001b[0m\u001b[1;33m.\u001b[0m\u001b[1;33m\u001b[0m\u001b[1;33m\u001b[0m\u001b[0m\n\u001b[0;32m    237\u001b[0m         \"\"\"\n\u001b[1;32m--> 238\u001b[1;33m         \u001b[1;32mreturn\u001b[0m \u001b[0mself\u001b[0m\u001b[1;33m.\u001b[0m\u001b[0m_decision_function\u001b[0m\u001b[1;33m(\u001b[0m\u001b[0mX\u001b[0m\u001b[1;33m)\u001b[0m\u001b[1;33m\u001b[0m\u001b[1;33m\u001b[0m\u001b[0m\n\u001b[0m\u001b[0;32m    239\u001b[0m \u001b[1;33m\u001b[0m\u001b[0m\n\u001b[0;32m    240\u001b[0m     \u001b[0m_preprocess_data\u001b[0m \u001b[1;33m=\u001b[0m \u001b[0mstaticmethod\u001b[0m\u001b[1;33m(\u001b[0m\u001b[0m_preprocess_data\u001b[0m\u001b[1;33m)\u001b[0m\u001b[1;33m\u001b[0m\u001b[1;33m\u001b[0m\u001b[0m\n",
      "\u001b[1;32m~\\anaconda3\\lib\\site-packages\\sklearn\\linear_model\\_base.py\u001b[0m in \u001b[0;36m_decision_function\u001b[1;34m(self, X)\u001b[0m\n\u001b[0;32m    216\u001b[0m \u001b[1;33m\u001b[0m\u001b[0m\n\u001b[0;32m    217\u001b[0m     \u001b[1;32mdef\u001b[0m \u001b[0m_decision_function\u001b[0m\u001b[1;33m(\u001b[0m\u001b[0mself\u001b[0m\u001b[1;33m,\u001b[0m \u001b[0mX\u001b[0m\u001b[1;33m)\u001b[0m\u001b[1;33m:\u001b[0m\u001b[1;33m\u001b[0m\u001b[1;33m\u001b[0m\u001b[0m\n\u001b[1;32m--> 218\u001b[1;33m         \u001b[0mcheck_is_fitted\u001b[0m\u001b[1;33m(\u001b[0m\u001b[0mself\u001b[0m\u001b[1;33m)\u001b[0m\u001b[1;33m\u001b[0m\u001b[1;33m\u001b[0m\u001b[0m\n\u001b[0m\u001b[0;32m    219\u001b[0m \u001b[1;33m\u001b[0m\u001b[0m\n\u001b[0;32m    220\u001b[0m         \u001b[0mX\u001b[0m \u001b[1;33m=\u001b[0m \u001b[0mcheck_array\u001b[0m\u001b[1;33m(\u001b[0m\u001b[0mX\u001b[0m\u001b[1;33m,\u001b[0m \u001b[0maccept_sparse\u001b[0m\u001b[1;33m=\u001b[0m\u001b[1;33m[\u001b[0m\u001b[1;34m'csr'\u001b[0m\u001b[1;33m,\u001b[0m \u001b[1;34m'csc'\u001b[0m\u001b[1;33m,\u001b[0m \u001b[1;34m'coo'\u001b[0m\u001b[1;33m]\u001b[0m\u001b[1;33m)\u001b[0m\u001b[1;33m\u001b[0m\u001b[1;33m\u001b[0m\u001b[0m\n",
      "\u001b[1;32m~\\anaconda3\\lib\\site-packages\\sklearn\\utils\\validation.py\u001b[0m in \u001b[0;36minner_f\u001b[1;34m(*args, **kwargs)\u001b[0m\n\u001b[0;32m     61\u001b[0m             \u001b[0mextra_args\u001b[0m \u001b[1;33m=\u001b[0m \u001b[0mlen\u001b[0m\u001b[1;33m(\u001b[0m\u001b[0margs\u001b[0m\u001b[1;33m)\u001b[0m \u001b[1;33m-\u001b[0m \u001b[0mlen\u001b[0m\u001b[1;33m(\u001b[0m\u001b[0mall_args\u001b[0m\u001b[1;33m)\u001b[0m\u001b[1;33m\u001b[0m\u001b[1;33m\u001b[0m\u001b[0m\n\u001b[0;32m     62\u001b[0m             \u001b[1;32mif\u001b[0m \u001b[0mextra_args\u001b[0m \u001b[1;33m<=\u001b[0m \u001b[1;36m0\u001b[0m\u001b[1;33m:\u001b[0m\u001b[1;33m\u001b[0m\u001b[1;33m\u001b[0m\u001b[0m\n\u001b[1;32m---> 63\u001b[1;33m                 \u001b[1;32mreturn\u001b[0m \u001b[0mf\u001b[0m\u001b[1;33m(\u001b[0m\u001b[1;33m*\u001b[0m\u001b[0margs\u001b[0m\u001b[1;33m,\u001b[0m \u001b[1;33m**\u001b[0m\u001b[0mkwargs\u001b[0m\u001b[1;33m)\u001b[0m\u001b[1;33m\u001b[0m\u001b[1;33m\u001b[0m\u001b[0m\n\u001b[0m\u001b[0;32m     64\u001b[0m \u001b[1;33m\u001b[0m\u001b[0m\n\u001b[0;32m     65\u001b[0m             \u001b[1;31m# extra_args > 0\u001b[0m\u001b[1;33m\u001b[0m\u001b[1;33m\u001b[0m\u001b[0m\n",
      "\u001b[1;32m~\\anaconda3\\lib\\site-packages\\sklearn\\utils\\validation.py\u001b[0m in \u001b[0;36mcheck_is_fitted\u001b[1;34m(estimator, attributes, msg, all_or_any)\u001b[0m\n\u001b[0;32m   1096\u001b[0m \u001b[1;33m\u001b[0m\u001b[0m\n\u001b[0;32m   1097\u001b[0m     \u001b[1;32mif\u001b[0m \u001b[1;32mnot\u001b[0m \u001b[0mattrs\u001b[0m\u001b[1;33m:\u001b[0m\u001b[1;33m\u001b[0m\u001b[1;33m\u001b[0m\u001b[0m\n\u001b[1;32m-> 1098\u001b[1;33m         \u001b[1;32mraise\u001b[0m \u001b[0mNotFittedError\u001b[0m\u001b[1;33m(\u001b[0m\u001b[0mmsg\u001b[0m \u001b[1;33m%\u001b[0m \u001b[1;33m{\u001b[0m\u001b[1;34m'name'\u001b[0m\u001b[1;33m:\u001b[0m \u001b[0mtype\u001b[0m\u001b[1;33m(\u001b[0m\u001b[0mestimator\u001b[0m\u001b[1;33m)\u001b[0m\u001b[1;33m.\u001b[0m\u001b[0m__name__\u001b[0m\u001b[1;33m}\u001b[0m\u001b[1;33m)\u001b[0m\u001b[1;33m\u001b[0m\u001b[1;33m\u001b[0m\u001b[0m\n\u001b[0m\u001b[0;32m   1099\u001b[0m \u001b[1;33m\u001b[0m\u001b[0m\n\u001b[0;32m   1100\u001b[0m \u001b[1;33m\u001b[0m\u001b[0m\n",
      "\u001b[1;31mNotFittedError\u001b[0m: This LinearRegression instance is not fitted yet. Call 'fit' with appropriate arguments before using this estimator."
     ]
    }
   ],
   "source": [
    "y_prediction =  LR.predict(X_test)\n",
    "y_prediction"
   ]
  },
  {
   "cell_type": "code",
   "execution_count": null,
   "id": "eb4e54b8",
   "metadata": {},
   "outputs": [],
   "source": [
    "rms = mean_squared_error(y_test, y_prediction, squared=False)"
   ]
  },
  {
   "cell_type": "code",
   "execution_count": null,
   "id": "3f991097",
   "metadata": {},
   "outputs": [],
   "source": [
    "rms"
   ]
  },
  {
   "cell_type": "markdown",
   "id": "4fb1e459",
   "metadata": {},
   "source": [
    "#### Our error so far is in near $200,000, which is not good for our model"
   ]
  },
  {
   "cell_type": "markdown",
   "id": "21001ce5",
   "metadata": {},
   "source": [
    "# Checking our Assumptions"
   ]
  },
  {
   "cell_type": "markdown",
   "id": "2c6dd1c9",
   "metadata": {},
   "source": [
    "## Normality"
   ]
  },
  {
   "cell_type": "code",
   "execution_count": null,
   "id": "18e7ba60",
   "metadata": {},
   "outputs": [],
   "source": [
    "df.hist(figsize=(20,20));"
   ]
  },
  {
   "cell_type": "markdown",
   "id": "e40807b7",
   "metadata": {},
   "source": [
    "None of these variables seem to follow a normal distribution. While this may create problems satisfying all assumptions, we'll first take a look at the other assumptions to see if there are any obvious changes to me made."
   ]
  },
  {
   "cell_type": "markdown",
   "id": "372c3d3d",
   "metadata": {},
   "source": [
    "For now we'll use a QQ Plot to confirm that our assesment is correct."
   ]
  },
  {
   "cell_type": "code",
   "execution_count": null,
   "id": "5fea7c6b",
   "metadata": {},
   "outputs": [],
   "source": [
    "sns.distplot(model_1.resid);"
   ]
  },
  {
   "cell_type": "code",
   "execution_count": null,
   "id": "c244a6fc",
   "metadata": {},
   "outputs": [],
   "source": [
    "plt.figure(figsize=(12, 8))\n",
    "fig = sm.graphics.qqplot(model_1.resid, dist=stats.norm, line='45', fit=True)\n",
    "plt.title('QQ Plot')\n",
    "plt.tight_layout();"
   ]
  },
  {
   "cell_type": "code",
   "execution_count": null,
   "id": "cb3333d7",
   "metadata": {},
   "outputs": [],
   "source": [
    "plt.figure(figsize=(12, 8))\n",
    "plt.scatter(model_1.predict(), model_1.resid)\n",
    "plt.xlabel('Fitted Values')\n",
    "plt.ylabel('Residuals')\n",
    "plt.title('Checking for Homoscedasticity');"
   ]
  },
  {
   "cell_type": "markdown",
   "id": "938776c9",
   "metadata": {},
   "source": [
    "## Further EDA and dealing with some outliers and rounding decimals"
   ]
  },
  {
   "cell_type": "code",
   "execution_count": null,
   "id": "9ae305e9",
   "metadata": {},
   "outputs": [],
   "source": [
    "df['bedrooms'].value_counts()"
   ]
  },
  {
   "cell_type": "code",
   "execution_count": null,
   "id": "76ed4396",
   "metadata": {},
   "outputs": [],
   "source": [
    "# Remove the few houses with high number of bedrooms\n",
    "df = df[~df['bedrooms'].isin([11, 10, 9])]"
   ]
  },
  {
   "cell_type": "markdown",
   "id": "4b1f6b1c",
   "metadata": {},
   "source": [
    "#### Turn Bathrooms column into wc_comp and wc_inc:"
   ]
  },
  {
   "cell_type": "code",
   "execution_count": null,
   "id": "c0527042",
   "metadata": {},
   "outputs": [],
   "source": [
    "df['bathrooms'].value_counts()"
   ]
  },
  {
   "cell_type": "code",
   "execution_count": null,
   "id": "30061d61",
   "metadata": {},
   "outputs": [],
   "source": [
    "df['bathrooms'] = df['bathrooms'].apply(lambda x: np.ceil(x) if str(x)[2] == '7' else (np.ceil(x) if str(x)[2] == '5' else np.floor(x)))"
   ]
  },
  {
   "cell_type": "code",
   "execution_count": null,
   "id": "a7123828",
   "metadata": {},
   "outputs": [],
   "source": [
    "df['bathrooms'].value_counts()"
   ]
  },
  {
   "cell_type": "code",
   "execution_count": null,
   "id": "91a1646a",
   "metadata": {},
   "outputs": [],
   "source": [
    "df = df[~df['bathrooms'].isin([8.0, 7.0])]"
   ]
  },
  {
   "cell_type": "markdown",
   "id": "68daafb8",
   "metadata": {},
   "source": [
    "#### Changed Floor column:"
   ]
  },
  {
   "cell_type": "code",
   "execution_count": null,
   "id": "35e8d369",
   "metadata": {},
   "outputs": [],
   "source": [
    "df['floors'].value_counts()"
   ]
  },
  {
   "cell_type": "code",
   "execution_count": null,
   "id": "89e3911f",
   "metadata": {},
   "outputs": [],
   "source": [
    "df['floors'] = df['floors'].apply(lambda x: np.ceil(x))"
   ]
  },
  {
   "cell_type": "markdown",
   "id": "0fe89c79",
   "metadata": {},
   "source": [
    "# Model 2 - Changing features and removing outliers"
   ]
  },
  {
   "cell_type": "code",
   "execution_count": null,
   "id": "82fd9d5d",
   "metadata": {},
   "outputs": [],
   "source": [
    "X = df.drop('price', axis=1)\n",
    "y = df['price']\n",
    "model_2 = sm.OLS(y, sm.add_constant(X)).fit()\n",
    "model_2.summary()"
   ]
  },
  {
   "cell_type": "code",
   "execution_count": null,
   "id": "1d77ae2a",
   "metadata": {},
   "outputs": [],
   "source": [
    "def clean_data_model_2(df):\n",
    "    \n",
    "    df = df[~df['bedrooms'].isin([11, 10, 9])]\n",
    "    df['bathrooms'] = df['bathrooms'].apply(lambda x: np.ceil(x) if str(x)[2] == '7' else (np.ceil(x) if str(x)[2] == '5' else np.floor(x)))\n",
    "    df = df[~df['bathrooms'].isin([8.0, 7.0])]\n",
    "    df['floors'] = df['floors'].apply(lambda x: np.ceil(x))\n",
    "    return df"
   ]
  },
  {
   "cell_type": "code",
   "execution_count": null,
   "id": "e80bc09a",
   "metadata": {},
   "outputs": [],
   "source": [
    "LR = LinearRegression()\n",
    "LR.fit(X,y)"
   ]
  },
  {
   "cell_type": "code",
   "execution_count": null,
   "id": "beeb7f76",
   "metadata": {},
   "outputs": [],
   "source": [
    "LR = LinearRegression()\n",
    "LR.fit(X,y)\n",
    "\n",
    "to_clean = X_test\n",
    "to_clean['price'] = y_test\n",
    "\n",
    "# Clean test according to cahnges so far\n",
    "cleaned_X_test_2 = clean_data_model_2(to_clean)\n",
    "\n",
    "y_test = cleaned_X_test_2['price']\n",
    "X_test = cleaned_X_test_2.drop('price', axis=1)\n",
    "\n",
    "y_prediction =  LR.predict(X_test)\n",
    "y_prediction\n",
    "\n",
    "rms = mean_squared_error(y_test, y_prediction, squared=False)\n",
    "rms"
   ]
  },
  {
   "cell_type": "code",
   "execution_count": null,
   "id": "c8a5939a",
   "metadata": {},
   "outputs": [],
   "source": []
  },
  {
   "cell_type": "markdown",
   "id": "686a102a",
   "metadata": {},
   "source": [
    "## Variable Correlations"
   ]
  },
  {
   "cell_type": "code",
   "execution_count": null,
   "id": "7196bbef",
   "metadata": {},
   "outputs": [],
   "source": [
    "fig, ax = plt.subplots(figsize=(16, 16))\n",
    "sns.heatmap(df.corr(), vmin=-1, vmax=1, annot=True);"
   ]
  },
  {
   "cell_type": "code",
   "execution_count": null,
   "id": "736e483d",
   "metadata": {},
   "outputs": [],
   "source": [
    "fig, ax = plt.subplots(figsize=(12, 10))\n",
    "heatmap = sns.heatmap(df.corr()[['price']].sort_values(by='price', ascending=False), vmin=-1, vmax=1, annot=True)\n",
    "heatmap.set_title('Features Correlating with Price', fontdict={'fontsize':20}, pad=16);"
   ]
  },
  {
   "cell_type": "markdown",
   "id": "024b6784",
   "metadata": {},
   "source": [
    "Of the features most correlated with Price, a few of them are regarding to the size of the property and surrounding ones (sqft_living, sqft_living15, sqft_above, number of bathrooms)"
   ]
  },
  {
   "cell_type": "code",
   "execution_count": null,
   "id": "d32b69cd",
   "metadata": {},
   "outputs": [],
   "source": [
    "#visualizer = Rank2D(algorithm=\"pearson\")\n",
    "#visualizer.fit_transform(df)\n",
    "#visualizer.show();"
   ]
  },
  {
   "cell_type": "code",
   "execution_count": null,
   "id": "8052daef",
   "metadata": {},
   "outputs": [],
   "source": [
    "# Drop some highly correlated columns\n",
    "df.drop(['grade', 'sqft_above', 'sqft_living15', 'sqft_lot15'], axis=1, inplace=True)"
   ]
  },
  {
   "cell_type": "code",
   "execution_count": null,
   "id": "4930affc",
   "metadata": {},
   "outputs": [],
   "source": [
    "# Drop uncorrelated columns\n",
    "df.drop(['id', 'year_sold', 'month_sold', 'zipcode'], axis=1, inplace=True)"
   ]
  },
  {
   "cell_type": "markdown",
   "id": "518e6232",
   "metadata": {},
   "source": [
    "# Model 3 - Addressing multicolinearity"
   ]
  },
  {
   "cell_type": "code",
   "execution_count": null,
   "id": "64cd5255",
   "metadata": {},
   "outputs": [],
   "source": [
    "X = df.drop('price', axis=1)\n",
    "y = df['price']\n",
    "model_3 = sm.OLS(y, sm.add_constant(X)).fit()\n",
    "model_3.summary()"
   ]
  },
  {
   "cell_type": "code",
   "execution_count": null,
   "id": "560a8e26",
   "metadata": {},
   "outputs": [],
   "source": [
    "def clean_data_model_3(df):\n",
    "    df.drop(['grade', 'sqft_above', 'sqft_living15', 'sqft_lot15'], axis=1, inplace=True)\n",
    "    df.drop(['id', 'year_sold', 'month_sold', 'zipcode'], axis=1, inplace=True)\n",
    "    return df"
   ]
  },
  {
   "cell_type": "code",
   "execution_count": null,
   "id": "f1e27d2b",
   "metadata": {},
   "outputs": [],
   "source": [
    "LR = LinearRegression()\n",
    "LR.fit(X,y)\n",
    "\n",
    "to_clean = X_test\n",
    "to_clean['price'] = y_test\n",
    "\n",
    "# Clean test according to cahnges so far\n",
    "cleaned_X_test_3 = clean_data_model_3(to_clean)\n",
    "\n",
    "y_test = cleaned_X_test_3['price']\n",
    "X_test = cleaned_X_test_3.drop('price', axis=1)\n",
    "\n",
    "y_prediction =  LR.predict(X_test)\n",
    "y_prediction\n",
    "\n",
    "rms = mean_squared_error(y_test, y_prediction, squared=False)\n",
    "rms"
   ]
  },
  {
   "cell_type": "markdown",
   "id": "a0a460f9",
   "metadata": {},
   "source": [
    "## Feature Engineering 1"
   ]
  },
  {
   "cell_type": "code",
   "execution_count": null,
   "id": "1262bdbb",
   "metadata": {},
   "outputs": [],
   "source": [
    "def distance_from(lat, long, series_lat, series_long):\n",
    "    lat_long = series_lat.astype(str) + ',' + series_long.astype(str)\n",
    "    lat_long = list(map(eval, lat_long))\n",
    "    coordinates = (lat, long)\n",
    "    miles = []\n",
    "    for i in lat_long:\n",
    "        miles.append(round(distance.distance(i, coordinates).miles, 1))\n",
    "    series = pd.DataFrame(miles)\n",
    "    return series"
   ]
  },
  {
   "cell_type": "code",
   "execution_count": null,
   "id": "01388144",
   "metadata": {},
   "outputs": [],
   "source": [
    "# df['distance_seattle'] = distance_from(47.6062, -122.3321, df['lat'], df['long'])\n",
    "# df['distance_redmond'] = distance_from(47.6740, -122.1215, df['lat'], df['long'])"
   ]
  },
  {
   "cell_type": "code",
   "execution_count": null,
   "id": "ae047893",
   "metadata": {},
   "outputs": [],
   "source": [
    "lat_long = df['lat'].astype(str) + ',' + df['long'].astype(str)\n",
    "lat_long = list(map(eval, lat_long))\n",
    "Seattle = (47.6062, -122.3321)\n",
    "Redmond = (47.6740, -122.1215)\n",
    "miles_s = []\n",
    "miles_r = []\n",
    "for i in lat_long:\n",
    "    miles_s.append(round(distance.distance(i, Seattle).miles, 1))\n",
    "for i in lat_long:\n",
    "    miles_r.append(round(distance.distance(i, Redmond).miles, 1))\n",
    "df['distance_seattle'] = miles_s\n",
    "df['distance_redmond'] = miles_r"
   ]
  },
  {
   "cell_type": "markdown",
   "id": "4c481ce5",
   "metadata": {},
   "source": [
    "Since we created new columns using location information, we can drop the latitude, longitude and zipcode columns."
   ]
  },
  {
   "cell_type": "code",
   "execution_count": null,
   "id": "d523f95b",
   "metadata": {},
   "outputs": [],
   "source": [
    "df.drop(['lat', 'long'], axis=1, inplace=True)"
   ]
  },
  {
   "cell_type": "code",
   "execution_count": null,
   "id": "11aa3816",
   "metadata": {},
   "outputs": [],
   "source": [
    "# Create column with rencent builds\n",
    "df['recent_build'] = df['yr_built'].apply(lambda x: 1 if x > 2010 else 0)"
   ]
  },
  {
   "cell_type": "code",
   "execution_count": null,
   "id": "3b15089d",
   "metadata": {},
   "outputs": [],
   "source": [
    "df.drop(['yr_built'], axis=1, inplace=True)"
   ]
  },
  {
   "cell_type": "markdown",
   "id": "68c8f552",
   "metadata": {},
   "source": [
    "# Model 4 - With Feature Engineering Done"
   ]
  },
  {
   "cell_type": "code",
   "execution_count": null,
   "id": "bc1f0504",
   "metadata": {},
   "outputs": [],
   "source": [
    "X = df.drop('price', axis=1)\n",
    "y = df['price']\n",
    "model_4 = sm.OLS(y, sm.add_constant(X)).fit()\n",
    "model_4.summary()"
   ]
  },
  {
   "cell_type": "code",
   "execution_count": null,
   "id": "138d50e3",
   "metadata": {},
   "outputs": [],
   "source": [
    "def clean_data_model_4(df):\n",
    "    \n",
    "    lat_long = df['lat'].astype(str) + ',' + df['long'].astype(str)\n",
    "    lat_long = list(map(eval, lat_long))\n",
    "    Seattle = (47.6062, -122.3321)\n",
    "    Redmond = (47.6740, -122.1215)\n",
    "    miles_s = []\n",
    "    miles_r = []\n",
    "    for i in lat_long:\n",
    "        miles_s.append(round(distance.distance(i, Seattle).miles, 1))\n",
    "    for i in lat_long:\n",
    "        miles_r.append(round(distance.distance(i, Redmond).miles, 1))\n",
    "    df['distance_seattle'] = miles_s\n",
    "    df['distance_redmond'] = miles_r\n",
    "    \n",
    "    df.drop(['lat', 'long'], axis=1, inplace=True)\n",
    "    \n",
    "    df['recent_build'] = df['yr_built'].apply(lambda x: 1 if x > 2010 else 0)\n",
    "    df.drop(['yr_built'], axis=1, inplace=True)\n",
    "    \n",
    "    return df"
   ]
  },
  {
   "cell_type": "code",
   "execution_count": null,
   "id": "5008de6b",
   "metadata": {},
   "outputs": [],
   "source": [
    "LR = LinearRegression()\n",
    "LR.fit(X,y)\n",
    "\n",
    "to_clean = X_test\n",
    "to_clean['price'] = y_test\n",
    "\n",
    "# Clean test according to cahnges so far\n",
    "cleaned_X_test_4 = clean_data_model_4(to_clean)\n",
    "\n",
    "y_test = cleaned_X_test_4['price']\n",
    "X_test = cleaned_X_test_4.drop('price', axis=1)\n",
    "\n",
    "y_prediction =  LR.predict(X_test)\n",
    "y_prediction\n",
    "\n",
    "rms = mean_squared_error(y_test, y_prediction, squared=False)\n",
    "rms"
   ]
  },
  {
   "cell_type": "markdown",
   "id": "374a472a",
   "metadata": {},
   "source": [
    "## Extended EDA"
   ]
  },
  {
   "cell_type": "code",
   "execution_count": null,
   "id": "adffaf96",
   "metadata": {},
   "outputs": [],
   "source": [
    "fig, ax = plt.subplots(figsize=(12, 10))\n",
    "heatmap = sns.heatmap(df.corr()[['price']].sort_values(by='price', ascending=False), vmin=-1, vmax=1, annot=True)\n",
    "heatmap.set_title('Features Correlating with Price', fontdict={'fontsize':20}, pad=16);"
   ]
  },
  {
   "cell_type": "code",
   "execution_count": null,
   "id": "a0defa4a",
   "metadata": {},
   "outputs": [],
   "source": [
    "# Drop some highly correlated columns or with near zero correlation with price\n",
    "df.drop(['condition', 'sqft_lot', 'yr_renovated', 'bathrooms', 'recent_build'], axis=1, inplace=True)"
   ]
  },
  {
   "cell_type": "code",
   "execution_count": null,
   "id": "812c81eb",
   "metadata": {},
   "outputs": [],
   "source": [
    "# Drop outlier\n",
    "df = df[df['price'] < 5000000]\n",
    "df = df[df['sqft_basement'] < 3000]"
   ]
  },
  {
   "cell_type": "markdown",
   "id": "d6227e30",
   "metadata": {},
   "source": [
    "## Model 5"
   ]
  },
  {
   "cell_type": "code",
   "execution_count": null,
   "id": "9c1d88ee",
   "metadata": {},
   "outputs": [],
   "source": [
    "X = df.drop('price', axis=1)\n",
    "y = df['price']\n",
    "model_5 = sm.OLS(y, sm.add_constant(X)).fit()\n",
    "model_5.summary()"
   ]
  },
  {
   "cell_type": "code",
   "execution_count": null,
   "id": "6977ab46",
   "metadata": {},
   "outputs": [],
   "source": [
    "LR = LinearRegression()\n",
    "LR.fit(X,y)\n"
   ]
  },
  {
   "cell_type": "code",
   "execution_count": null,
   "id": "dec30b40",
   "metadata": {},
   "outputs": [],
   "source": []
  },
  {
   "cell_type": "code",
   "execution_count": null,
   "id": "fda94435",
   "metadata": {},
   "outputs": [],
   "source": [
    "# features = np.array([bedrooms, sqft_living, floors, waterfront, view, sqft_basement, distance_seattle, distance_redmond], dtype=float)\n",
    "\n",
    "features = np.array([3, 15, 10, 1, 0, 650, 6.3, 9.6], dtype=float)\n",
    "\n",
    "formula = LR.intercept_ + (np.dot(LR.coef_, features))\n",
    "formula"
   ]
  },
  {
   "cell_type": "code",
   "execution_count": null,
   "id": "7b15f96c",
   "metadata": {},
   "outputs": [],
   "source": [
    "formula"
   ]
  },
  {
   "cell_type": "code",
   "execution_count": null,
   "id": "cc8c812c",
   "metadata": {},
   "outputs": [],
   "source": [
    "LR = LinearRegression()\n",
    "LR.fit(X,y)\n",
    "plot.scatter(X,y)"
   ]
  },
  {
   "cell_type": "code",
   "execution_count": null,
   "id": "7bf7cdb3",
   "metadata": {},
   "outputs": [],
   "source": []
  },
  {
   "cell_type": "code",
   "execution_count": null,
   "id": "8741b185",
   "metadata": {},
   "outputs": [],
   "source": [
    "Seattle = (47.6062, -122.3321)\n",
    "Redmond = (47.6740, -122.1215)"
   ]
  },
  {
   "cell_type": "code",
   "execution_count": null,
   "id": "5bdd2907",
   "metadata": {},
   "outputs": [],
   "source": [
    "fig, ax = plt.subplots(figsize=(14, 10))\n",
    "plt.title('Home Location vs. Price')\n",
    "sns.scatterplot(df_ref['long'], df_ref['lat'], hue=df['distance_redmond'])#, palette='RdBu', alpha=0.3)\n",
    "# sns.scatterplot(47.6062, -122.3321)#, color='g', marker='*')\n",
    "plt.xlabel('Longitude')\n",
    "plt.ylabel('Latitude')\n",
    "plt.tight_layout()"
   ]
  },
  {
   "cell_type": "code",
   "execution_count": null,
   "id": "1f77868f",
   "metadata": {},
   "outputs": [],
   "source": []
  },
  {
   "cell_type": "code",
   "execution_count": null,
   "id": "2c0ccf5b",
   "metadata": {},
   "outputs": [],
   "source": []
  },
  {
   "cell_type": "code",
   "execution_count": null,
   "id": "f6a2ef7f",
   "metadata": {},
   "outputs": [],
   "source": [
    "y_test"
   ]
  },
  {
   "cell_type": "code",
   "execution_count": null,
   "id": "6d802a8c",
   "metadata": {},
   "outputs": [],
   "source": [
    "X_test"
   ]
  },
  {
   "cell_type": "code",
   "execution_count": null,
   "id": "3bf7def5",
   "metadata": {},
   "outputs": [],
   "source": [
    "LR.intercept_"
   ]
  },
  {
   "cell_type": "code",
   "execution_count": null,
   "id": "09775751",
   "metadata": {},
   "outputs": [],
   "source": [
    "print(\"Final Regression Formula\\n\")\n",
    "print(model.intercept_, '+')\n",
    "print('sum(')\n",
    "for i in range(len(model_coefficients)):\n",
    "    print(model_coefficients.coefficients[i], '*', model_coefficients.index[i])\n",
    "print(')')\n"
   ]
  },
  {
   "cell_type": "code",
   "execution_count": null,
   "id": "2828aacc",
   "metadata": {},
   "outputs": [],
   "source": [
    "def clean_data_model_5(df):\n",
    "    df.drop(['condition', 'sqft_lot', 'yr_renovated', 'bathrooms', 'recent_build'], axis=1, inplace=True)\n",
    "    df = df[df['price'] < 4000000]\n",
    "    df = df[df['sqft_basement'] < 3000]\n",
    "    \n",
    "    return df"
   ]
  },
  {
   "cell_type": "code",
   "execution_count": null,
   "id": "d16f24a0",
   "metadata": {},
   "outputs": [],
   "source": [
    "LR = LinearRegression()\n",
    "LR.fit(X,y)\n",
    "\n",
    "to_clean = X_test\n",
    "to_clean['price'] = y_test\n",
    "\n",
    "# Clean test according to cahnges so far\n",
    "cleaned_X_test_5 = clean_data_model_5(to_clean)\n",
    "\n",
    "y_test = cleaned_X_test_5['price']\n",
    "X_test = cleaned_X_test_5.drop('price', axis=1)\n",
    "\n",
    "y_prediction =  LR.predict(X_test)\n",
    "y_prediction\n",
    "\n",
    "rms = mean_squared_error(y_test, y_prediction, squared=False)\n",
    "rms"
   ]
  },
  {
   "cell_type": "code",
   "execution_count": null,
   "id": "a79d206c",
   "metadata": {},
   "outputs": [],
   "source": [
    "LR.score(X_test, y_test) #r-squared"
   ]
  },
  {
   "cell_type": "code",
   "execution_count": null,
   "id": "7cbaec85",
   "metadata": {},
   "outputs": [],
   "source": []
  },
  {
   "cell_type": "code",
   "execution_count": null,
   "id": "612e88dc",
   "metadata": {},
   "outputs": [],
   "source": []
  },
  {
   "cell_type": "code",
   "execution_count": null,
   "id": "32a48f49",
   "metadata": {},
   "outputs": [],
   "source": [
    "np.exp(y).mean()"
   ]
  },
  {
   "cell_type": "code",
   "execution_count": null,
   "id": "8553c89d",
   "metadata": {},
   "outputs": [],
   "source": [
    "plt.scatter(y_test, y_prediction)"
   ]
  },
  {
   "cell_type": "code",
   "execution_count": null,
   "id": "f683a285",
   "metadata": {},
   "outputs": [],
   "source": [
    "sns.regplot(y_test, y_prediction)"
   ]
  },
  {
   "cell_type": "code",
   "execution_count": null,
   "id": "22b1dea5",
   "metadata": {},
   "outputs": [],
   "source": [
    "def model_diagnostic(model, x, x_name, y):\n",
    "    \n",
    "    residuals = model.resid\n",
    "    \n",
    "    f = plt.figure()\n",
    "    f, axes = plt.subplots(nrows = 1, ncols = 3, sharex=False, sharey = False, figsize=(65,20), squeeze=False)\n",
    "    \n",
    "    f.text(s=\"Model Diagnostic Summary\", x=.40, y=1.15, fontsize=65, fontname='silom')\n",
    "    f.text(s=\"r-Squared: {r}\".format(r=round(model.rsquared, 2)), x=.40, y=1.05, fontsize=50, fontname='serif')\n",
    "    f.text(s=\"p-value: {p}\".format(p= model.f_pvalue), x=.53, y=1.05, fontsize=50, fontname='serif')\n",
    "    \n",
    "    f.text(s='Residuals Histogram', x=.45, y=.93, fontsize=55, fontname='serif')\n",
    "    \n",
    "    sm.graphics.qqplot(residuals, dist=stats.norm, line='45', fit=True, ax=axes[0][0])    \n",
    "    plt.show;\n",
    "    \n",
    "    f.text(s='QQ Plot', x=.20, y=.93, fontsize=55, fontname='serif')\n",
    "    \n",
    "    axes[0][1].hist(residuals)\n",
    "    plt.show;\n",
    "    \n",
    "    sns.residplot(x, y, ax=axes[0][2])\n",
    "    \n",
    " \n",
    "    f.text(s='Residuals vs {x}'.format(x=x_name), x=.73, y=.93, fontsize=55, fontname='serif')\n",
    "    plt.tight_layout;\n",
    "    plt.show;"
   ]
  },
  {
   "cell_type": "code",
   "execution_count": null,
   "id": "3d5eda8b",
   "metadata": {},
   "outputs": [],
   "source": [
    "def model_diagnostic(model, x, x_name, y):\n",
    "    \n",
    "    residuals = model.resid\n",
    "    fig, axes = plt.subplots(nrows = 1, ncols = 3, sharex=False, sharey = False, figsize=(65,20), squeeze=False)\n",
    "\n",
    "    sm.graphics.qqplot(residuals, dist=stats.norm, line='45', fit=True, ax=axes[0][0])      \n",
    "    axes[0][1].hist(residuals)\n",
    "    sns.residplot(x, y, ax=axes[0][2])\n",
    "    plt.tight_layout;"
   ]
  },
  {
   "cell_type": "markdown",
   "id": "79b7d56d",
   "metadata": {},
   "source": [
    "### Transformations"
   ]
  },
  {
   "cell_type": "code",
   "execution_count": null,
   "id": "6c369ad2",
   "metadata": {},
   "outputs": [],
   "source": [
    "df['price'] = np.log(df['price'])\n",
    "# df['log_bedrooms'] = np.log(df['bedrooms'])\n",
    "# df['log_bathrooms'] = np.log(df['bathrooms'])\n",
    "# df['log_sqft_living'] = np.log(df['sqft_living'])\n",
    "# df['log_floors'] = np.log(df['floors'])\n",
    "# df['log_waterfront'] = np.log(df['waterfront'])\n",
    "# df['log_view'] = np.log(df['view'])\n",
    "# df['log_distance_seattle'] = np.log(df['distance_seattle'])\n",
    "# df['log_distance_redmond'] = np.log(df['distance_redmond'])"
   ]
  },
  {
   "cell_type": "code",
   "execution_count": null,
   "id": "f90ccefe",
   "metadata": {},
   "outputs": [],
   "source": [
    "# df.drop(['log_distance_redmond', 'log_distance_seattle'], axis=1, inplace=True)"
   ]
  },
  {
   "cell_type": "code",
   "execution_count": null,
   "id": "308d8604",
   "metadata": {},
   "outputs": [],
   "source": [
    "# df.drop(['log_view'], axis=1, inplace=True)"
   ]
  },
  {
   "cell_type": "code",
   "execution_count": null,
   "id": "970ff143",
   "metadata": {},
   "outputs": [],
   "source": [
    "# df.drop(['log_bathrooms'], axis=1, inplace=True)"
   ]
  },
  {
   "cell_type": "code",
   "execution_count": null,
   "id": "ffecd3a6",
   "metadata": {},
   "outputs": [],
   "source": [
    "# df['log_distance_redmond'] = np.log(df['distance_redmond'])"
   ]
  },
  {
   "cell_type": "code",
   "execution_count": null,
   "id": "1395ada0",
   "metadata": {},
   "outputs": [],
   "source": [
    "# df['log_distance_seattle'] = np.log(df['distance_seattle'])"
   ]
  },
  {
   "cell_type": "code",
   "execution_count": null,
   "id": "ff60c2d1",
   "metadata": {},
   "outputs": [],
   "source": [
    "# df['log_view'] = np.log(df['view'])"
   ]
  },
  {
   "cell_type": "code",
   "execution_count": null,
   "id": "594f333e",
   "metadata": {},
   "outputs": [],
   "source": [
    "X = df.drop('price', axis=1)\n",
    "y = df['price']\n",
    "model_6 = sm.OLS(y, sm.add_constant(X)).fit()\n",
    "model_6.summary()"
   ]
  },
  {
   "cell_type": "code",
   "execution_count": null,
   "id": "07513965",
   "metadata": {},
   "outputs": [],
   "source": [
    "def clean_data_model_6(df):\n",
    "    df['price'] = np.log(df['price'])\n",
    "\n",
    "    return df"
   ]
  },
  {
   "cell_type": "code",
   "execution_count": null,
   "id": "7e8aba57",
   "metadata": {},
   "outputs": [],
   "source": [
    "LR = LinearRegression()\n",
    "LR.fit(X,y)\n",
    "\n",
    "to_clean = X_test\n",
    "to_clean['price'] = y_test\n",
    "\n",
    "# Clean test according to cahnges so far\n",
    "cleaned_X_test_6 = clean_data_model_6(to_clean)\n",
    "\n",
    "y_test = cleaned_X_test_6['price']\n",
    "X_test = cleaned_X_test_6.drop('price', axis=1)\n",
    "\n",
    "y_prediction =  LR.predict(X_test)\n",
    "y_prediction\n",
    "\n",
    "rms = mean_squared_error(y_test, y_prediction, squared=False)\n",
    "rms"
   ]
  },
  {
   "cell_type": "code",
   "execution_count": null,
   "id": "ee8f7fa0",
   "metadata": {},
   "outputs": [],
   "source": [
    "this is to break the code"
   ]
  },
  {
   "cell_type": "code",
   "execution_count": null,
   "id": "cfc12231",
   "metadata": {},
   "outputs": [],
   "source": [
    "sns.scatterplot(y_prediction, y_test)"
   ]
  },
  {
   "cell_type": "code",
   "execution_count": null,
   "id": "debd8d08",
   "metadata": {},
   "outputs": [],
   "source": [
    "plt.errorbar(y_prediction, y_test, yerr=dy, fmt='.k');\n",
    "sns.lmplot(x=\"size\", y=\"tip\", data=tips, x_estimator=np.mean);"
   ]
  },
  {
   "cell_type": "code",
   "execution_count": null,
   "id": "a9068494",
   "metadata": {},
   "outputs": [],
   "source": [
    "def normalize(feature):\n",
    "    return (feature - feature.mean()) / feature.std()"
   ]
  },
  {
   "cell_type": "code",
   "execution_count": null,
   "id": "cc3f5466",
   "metadata": {},
   "outputs": [],
   "source": [
    "features_final = ames_log.apply(normalize)"
   ]
  },
  {
   "cell_type": "code",
   "execution_count": null,
   "id": "ffe2159f",
   "metadata": {},
   "outputs": [],
   "source": [
    "df.keys()"
   ]
  },
  {
   "cell_type": "code",
   "execution_count": null,
   "id": "e38d8715",
   "metadata": {},
   "outputs": [],
   "source": [
    "for feature in df.keys():\n",
    "    if feature.startswith('log'):\n",
    "        df[feature] = normalize(df[feature])\n"
   ]
  },
  {
   "cell_type": "code",
   "execution_count": null,
   "id": "590ac489",
   "metadata": {},
   "outputs": [],
   "source": [
    "X = df.drop('price', axis=1)\n",
    "y = df['price']\n",
    "model_7 = sm.OLS(y, sm.add_constant(X)).fit()\n",
    "model_7.summary()"
   ]
  },
  {
   "cell_type": "code",
   "execution_count": null,
   "id": "d953a5ee",
   "metadata": {},
   "outputs": [],
   "source": []
  },
  {
   "cell_type": "code",
   "execution_count": null,
   "id": "1ed9406a",
   "metadata": {},
   "outputs": [],
   "source": [
    "f = 'price~sqft_living'\n",
    "sqft_living_model = smf.ols(formula=f, data=df).fit()\n",
    "residuals = sqft_living_model.resid\n",
    "plt.figure(figsize=(12, 8))\n",
    "fig = sm.graphics.qqplot(sqft_living_model.resid, dist=stats.norm, line='45', fit=True)\n",
    "plt.title('QQ Plot')\n",
    "plt.tight_layout();"
   ]
  },
  {
   "cell_type": "code",
   "execution_count": null,
   "id": "5b3774cb",
   "metadata": {},
   "outputs": [],
   "source": [
    "plt.figure(figsize=(10, 6))\n",
    "plt.scatter(sqft_living_model.predict(), sqft_living_model.resid)\n",
    "plt.xlabel('Fitted Values')\n",
    "plt.ylabel('Residuals')\n",
    "plt.title('Checking for Homoscedasticity');"
   ]
  },
  {
   "cell_type": "code",
   "execution_count": null,
   "id": "92072ad3",
   "metadata": {},
   "outputs": [],
   "source": [
    "sns.distplot(sqft_living_model.resid);"
   ]
  },
  {
   "cell_type": "code",
   "execution_count": null,
   "id": "b4be57e7",
   "metadata": {},
   "outputs": [],
   "source": []
  },
  {
   "cell_type": "code",
   "execution_count": null,
   "id": "0fb0a9ad",
   "metadata": {},
   "outputs": [],
   "source": [
    "f = 'price~bedrooms'\n",
    "bedrooms_model = smf.ols(formula=f, data=df).fit()\n",
    "model_diagnostic(bedrooms_model, df['bedrooms'], 'bedrooms', df['price'])"
   ]
  },
  {
   "cell_type": "code",
   "execution_count": null,
   "id": "21037735",
   "metadata": {},
   "outputs": [],
   "source": [
    "f = 'price~bathrooms'\n",
    "bathrooms_model = smf.ols(formula=f, data=df).fit()\n",
    "model_diagnostic(bathrooms_model, df['bathrooms'], 'bathrooms', df['price'])"
   ]
  },
  {
   "cell_type": "code",
   "execution_count": null,
   "id": "5743d88e",
   "metadata": {},
   "outputs": [],
   "source": [
    "f = 'price~sqft_living'\n",
    "sqft_living_model = smf.ols(formula=f, data=df).fit()\n",
    "model_diagnostic(sqft_living_model, df['sqft_living'], 'sqft_living', df['price'])"
   ]
  },
  {
   "cell_type": "code",
   "execution_count": null,
   "id": "5f2a83aa",
   "metadata": {},
   "outputs": [],
   "source": [
    "f = 'price~floors'\n",
    "floors_model = smf.ols(formula=f, data=df).fit()\n",
    "model_diagnostic(floors_model, df['floors'], 'floors', df['price'])"
   ]
  },
  {
   "cell_type": "code",
   "execution_count": null,
   "id": "fb8c3621",
   "metadata": {},
   "outputs": [],
   "source": [
    "f = 'price~waterfront'\n",
    "waterfront_model = smf.ols(formula=f, data=df).fit()\n",
    "model_diagnostic(waterfront_model, df['waterfront'], 'waterfront', df['price'])"
   ]
  },
  {
   "cell_type": "code",
   "execution_count": null,
   "id": "03657774",
   "metadata": {},
   "outputs": [],
   "source": [
    "f = 'price~sqft_basement'\n",
    "sqft_basement_model = smf.ols(formula=f, data=df).fit()\n",
    "model_diagnostic(sqft_basement_model, df['sqft_basement'], 'sqft_basement', df['price'])"
   ]
  },
  {
   "cell_type": "code",
   "execution_count": null,
   "id": "9965784e",
   "metadata": {},
   "outputs": [],
   "source": [
    "f = 'price~distance_seattle'\n",
    "distance_seattle_model = smf.ols(formula=f, data=df).fit()\n",
    "model_diagnostic(distance_seattle_model, df['distance_seattle'], 'distance_seattle', df['price'])"
   ]
  },
  {
   "cell_type": "code",
   "execution_count": null,
   "id": "0b994ad0",
   "metadata": {},
   "outputs": [],
   "source": [
    "f = 'price~distance_redmond\t'\n",
    "distance_redmond_model = smf.ols(formula=f, data=df).fit()\n",
    "model_diagnostic(distance_redmond_model, df['distance_redmond'], 'distance_redmond', df['price'])"
   ]
  },
  {
   "cell_type": "code",
   "execution_count": null,
   "id": "7781034e",
   "metadata": {},
   "outputs": [],
   "source": [
    "X = df.drop('price', axis=1)\n",
    "y = df['price']\n",
    "model = sm.OLS(y, sm.add_constant(X)).fit()\n",
    "model.summary()"
   ]
  },
  {
   "cell_type": "code",
   "execution_count": null,
   "id": "f92ff167",
   "metadata": {},
   "outputs": [],
   "source": [
    "sns.distplot(model_5.resid);"
   ]
  },
  {
   "cell_type": "code",
   "execution_count": null,
   "id": "85ce5c2d",
   "metadata": {},
   "outputs": [],
   "source": [
    "fig = sm.graphics.qqplot(model_5.resid, dist=stats.norm, line='45', fit=True)"
   ]
  },
  {
   "cell_type": "code",
   "execution_count": null,
   "id": "08ce66e3",
   "metadata": {},
   "outputs": [],
   "source": [
    "plt.figure(figsize=(12, 8))\n",
    "plt.scatter(model.predict(), model.resid)\n",
    "plt.xlabel('Fitted Values')\n",
    "plt.ylabel('Residuals')\n",
    "plt.title('Checking for Homoscedasticity')"
   ]
  },
  {
   "cell_type": "markdown",
   "id": "049ec942",
   "metadata": {},
   "source": [
    "## Validating the Model"
   ]
  },
  {
   "cell_type": "code",
   "execution_count": null,
   "id": "43fa3acb",
   "metadata": {},
   "outputs": [],
   "source": []
  },
  {
   "cell_type": "code",
   "execution_count": null,
   "id": "89a6393f",
   "metadata": {},
   "outputs": [],
   "source": []
  },
  {
   "cell_type": "code",
   "execution_count": null,
   "id": "794594cb",
   "metadata": {},
   "outputs": [],
   "source": []
  },
  {
   "cell_type": "code",
   "execution_count": null,
   "id": "2aae343f",
   "metadata": {},
   "outputs": [],
   "source": []
  },
  {
   "cell_type": "markdown",
   "id": "bf3fa0ab",
   "metadata": {},
   "source": [
    "We fail to reject the null hypotesis here since the p-value is insignificant, so the model is homoscedastic."
   ]
  },
  {
   "cell_type": "code",
   "execution_count": null,
   "id": "041dfd54",
   "metadata": {},
   "outputs": [],
   "source": [
    "fig, ax = plt.subplots(figsize=(12, 10))\n",
    "heatmap = sns.heatmap(df.corr()[['price']].sort_values(by='price', ascending=False), vmin=-1, vmax=1, annot=True)\n",
    "heatmap.set_title('Features Correlating with Price', fontdict={'fontsize':20}, pad=16);"
   ]
  },
  {
   "cell_type": "markdown",
   "id": "a9eee5e4",
   "metadata": {},
   "source": [
    "## Checking Assumptions for Linear Regression"
   ]
  },
  {
   "cell_type": "markdown",
   "id": "027f1337",
   "metadata": {},
   "source": [
    "## sns.pairplot(df, y_vars=['price'])"
   ]
  },
  {
   "cell_type": "code",
   "execution_count": null,
   "id": "6f998f66",
   "metadata": {},
   "outputs": [],
   "source": [
    "plt.scatter(x=df['sqft_living']**2, y=df['price'])"
   ]
  },
  {
   "cell_type": "code",
   "execution_count": null,
   "id": "ceebf01a",
   "metadata": {},
   "outputs": [],
   "source": [
    "df['sqft_living']**2"
   ]
  },
  {
   "cell_type": "code",
   "execution_count": null,
   "id": "ed054e20",
   "metadata": {},
   "outputs": [],
   "source": [
    "# X = df.drop('price', axis=1)\n",
    "for col in X.columns:\n",
    "    plt.subplots(1, 1)\n",
    "    sns.regplot(X[col], df.price)\n",
    "    plt.title(col)"
   ]
  },
  {
   "cell_type": "code",
   "execution_count": null,
   "id": "e6d8b818",
   "metadata": {},
   "outputs": [],
   "source": []
  },
  {
   "cell_type": "code",
   "execution_count": null,
   "id": "8c12e3de",
   "metadata": {},
   "outputs": [],
   "source": [
    "from sklearn.svm import SVC\n",
    "from sklearn.datasets import make_classification\n",
    "\n",
    "from yellowbrick.model_selection import RFECV\n",
    "\n",
    "# Instantiate RFECV visualizer with a linear SVM classifier\n",
    "visualizer = RFECV(SVC(kernel='linear', C=1))\n",
    "\n",
    "visualizer.fit(X, y)        # Fit the data to the visualizer\n",
    "visualizer.show()           # Finalize and render the figure"
   ]
  },
  {
   "cell_type": "code",
   "execution_count": null,
   "id": "2ed7dafa",
   "metadata": {},
   "outputs": [],
   "source": []
  },
  {
   "cell_type": "code",
   "execution_count": null,
   "id": "35b322c9",
   "metadata": {},
   "outputs": [],
   "source": [
    "import pandas as pd\n",
    "import numpy as np\n",
    "import seaborn as sns\n",
    "import matplotlib.pyplot as plt\n",
    "import statsmodels.api as sm\n",
    "from statsmodels.formula.api import ols"
   ]
  },
  {
   "cell_type": "code",
   "execution_count": null,
   "id": "c3394252",
   "metadata": {},
   "outputs": [],
   "source": []
  },
  {
   "cell_type": "markdown",
   "id": "5731dbc9",
   "metadata": {},
   "source": [
    "# Description of King's Housing Data Columns\n",
    "\n",
    "* `id` - Unique identifier for a house\n",
    "* `date` - Date house was sold\n",
    "* `price` - Sale price (prediction target)\n",
    "* `bedrooms` - Number of bedrooms\n",
    "* `bathrooms` - Number of bathrooms\n",
    "* `sqft_living` - Square footage of living space in the home\n",
    "* `sqft_lot` - Square footage of the lot\n",
    "* `floors` - Number of floors (levels) in house\n",
    "* `waterfront` - Whether the house is on a waterfront\n",
    "  * Includes Duwamish, Elliott Bay, Puget Sound, Lake Union, Ship Canal, Lake Washington, Lake Sammamish, other lake, and river/slough waterfronts\n",
    "* `view` - Quality of view from house\n",
    "  * Includes views of Mt. Rainier, Olympics, Cascades, Territorial, Seattle Skyline, Puget Sound, Lake Washington, Lake Sammamish, small lake / river / creek, and other\n",
    "* `condition` - How good the overall condition of the house is. Related to maintenance of house.\n",
    "  * See the [King County Assessor Website](https://info.kingcounty.gov/assessor/esales/Glossary.aspx?type=r) for further explanation of each condition code\n",
    "* `grade` - Overall grade of the house. Related to the construction and design of the house.\n",
    "  * See the [King County Assessor Website](https://info.kingcounty.gov/assessor/esales/Glossary.aspx?type=r) for further explanation of each building grade code\n",
    "* `sqft_above` - Square footage of house apart from basement\n",
    "* `sqft_basement` - Square footage of the basement\n",
    "* `yr_built` - Year when house was built\n",
    "* `yr_renovated` - Year when house was renovated\n",
    "* `zipcode` - ZIP Code used by the United States Postal Service\n",
    "* `lat` - Latitude coordinate\n",
    "* `long` - Longitude coordinate\n",
    "* `sqft_living15` - The square footage of interior housing living space for the nearest 15 neighbors\n",
    "* `sqft_lot15` - The square footage of the land lots of the nearest 15 neighbors"
   ]
  },
  {
   "cell_type": "markdown",
   "id": "c3b47e7d",
   "metadata": {},
   "source": [
    "Ignore\n",
    "\n",
    "date\n",
    "view\n",
    "sqft_above\n",
    "sqft_basement\n",
    "yr_renovated\n",
    "zipcode\n",
    "lat\n",
    "long\n",
    "sqft_living15\n",
    "sqft_lot15"
   ]
  },
  {
   "cell_type": "code",
   "execution_count": null,
   "id": "9e2d8b4b",
   "metadata": {},
   "outputs": [],
   "source": [
    "house_data = pd.read_csv('data/kc_house_data.csv')\n",
    "house_data"
   ]
  },
  {
   "cell_type": "code",
   "execution_count": null,
   "id": "caf81462",
   "metadata": {},
   "outputs": [],
   "source": [
    "sns.pairplot(house_data)\n"
   ]
  },
  {
   "cell_type": "code",
   "execution_count": null,
   "id": "b323fcc2",
   "metadata": {},
   "outputs": [],
   "source": [
    "sns.pairplot(house_data,  y_vars=['price'])"
   ]
  },
  {
   "cell_type": "code",
   "execution_count": null,
   "id": "9509dee1",
   "metadata": {},
   "outputs": [],
   "source": [
    "sns.heatmap(house_data.corr())"
   ]
  },
  {
   "cell_type": "code",
   "execution_count": null,
   "id": "32e6be3e",
   "metadata": {},
   "outputs": [],
   "source": [
    "x = ['bedrooms','bathrooms','sqft_living', 'sqft_lot', 'sqft_above']\n",
    "y = ['price']\n",
    "test_model = sm.OLS(house_data[y],sm.add_constant(house_data[x])).fit()\n",
    "model_summary = test_model.summary()\n",
    "model_summary"
   ]
  },
  {
   "cell_type": "code",
   "execution_count": null,
   "id": "1cf1f5aa",
   "metadata": {},
   "outputs": [],
   "source": [
    "rsquare_1 = 0.703\n",
    "rsquare_2 = 0.704\n",
    "rsquare_3= 0.655\n",
    "rsquare_4 = 0.688\n",
    "rsquare_5 = 0.680\n",
    "\n",
    "rms_1 = 199177.32750300417\n",
    "rms_2 = 199811.68761176738\n",
    "rms_3 = 211769.47140901658\n",
    "rms_4 = 201361.78148826104\n",
    "rms_5 = 191685.177168897"
   ]
  },
  {
   "cell_type": "code",
   "execution_count": null,
   "id": "25aae21a",
   "metadata": {},
   "outputs": [],
   "source": [
    "x_rms = [\"Model 1\", \"Model 2\", \"Model 3\", \"Model 4\", \"Model 5\"]\n",
    "y_rms = [199177.32750300417,199811.68761176738, 211769.47140901658, 201361.78148826104, 191685.177168897]"
   ]
  },
  {
   "cell_type": "code",
   "execution_count": null,
   "id": "f2e80362",
   "metadata": {},
   "outputs": [],
   "source": [
    "sns.barplot(x = x_rms, y = y_rms)"
   ]
  },
  {
   "cell_type": "markdown",
   "id": "0718f921",
   "metadata": {},
   "source": [
    "#### Auburn School District\n",
    "Alpac Elementary - 310 Milwaukee Boulevard, North Pacific, WA 98047\n",
    "Arthur Jacobsen Elementary - 29205 132nd Avenue Southeast, Auburn, WA 98092\n",
    "\n",
    "Auburn High School\n",
    "711 East Main Street\n",
    "Auburn, WA 98002\n",
    "\n",
    "Auburn Mountainview High School\n",
    "28900 124th Avenue Southeast\n",
    "Auburn, WA 98092\n",
    "\n",
    "Auburn Riverside High School\n",
    "501 Oravetz Road\n",
    "Auburn, WA 98092\n",
    "\n",
    "Bowman Creek Elementary\n",
    "5701 Kersey Way SE\n",
    "Auburn, WA 98092\n",
    "\n",
    "Cascade Middle School\n",
    "1015 24th Street NE\n",
    "Auburn, WA 98002\n",
    "\n",
    "Chinook Elementary\n",
    "1825 K Street SE - Temp Address: 2021-22\n",
    "Auburn, WA 98002\n",
    "\n",
    "Dick Scobee Elementary\n",
    "1031 14th Street NE\n",
    "Auburn, WA 98002\n",
    "\n",
    "Evergreen Heights Elementary\n",
    "5602 South 316th\n",
    "Auburn, WA 98001\n",
    "\n",
    "Gildo Rey Elementary\n",
    "1005 37th Street SE\n",
    "Auburn, WA 98002\n",
    "\n",
    "\n",
    "Hazelwood Elementary\n",
    "11815 SE 304th Street\n",
    "Auburn, WA 98092\n",
    "\n",
    "Ilalko Elementary\n",
    "301 Oravetz Place SE\n",
    "Auburn, WA 98092\n",
    "\n",
    "\n",
    "\n",
    "Lake View Elementary\n",
    "16401 SE 318th\n",
    "Auburn, WA 98092\n",
    "\n",
    "Lakeland Hills Elementary\n",
    "1020 Evergreen Way SE\n",
    "Auburn, WA 98092\n",
    "\n",
    "\n",
    "Lea Hill Elementary\n",
    "13002 SE 304th Street - Temp Address: 2021-22\n",
    "Auburn, WA 98092\n",
    "\n",
    "Mt. Baker Middle School\n",
    "620 37th Street SE\n",
    "Auburn, WA 98002\n",
    "\n",
    "Olympic Middle School\n",
    "839 21st Street SE\n",
    "Auburn, WA 98002\n",
    "\n",
    "\n",
    "Pioneer Elementary\n",
    "2301 M Street SE\n",
    "Auburn, WA 98002\n",
    "\n",
    "Rainier Middle School\n",
    "30620 116th Avenue SE\n",
    "Auburn, WA 98092\n",
    "\n",
    "Terminal Park Elementary\n",
    "1101 D Street SE\n",
    "Auburn, WA 98002\n",
    "\n",
    "Washington Elementary\n",
    "20 E Street NE\n",
    "Auburn, WA 98002\n",
    "\n",
    "West Auburn High School\n",
    "401 West Main Street\n",
    "Auburn, WA 98001\n",
    "\n",
    "#### Bellevue School District\n",
    "Ardmore\n",
    "Ardmore Elementary School\n",
    "16616 NE 32nd Street, Bellevue, WA 98008\n",
    "\n",
    "Bennett\n",
    "Bennett Elementary School\n",
    " 17900 NE 16th St, Bellevue, WA 98008\n",
    " \n",
    " \n",
    "Cherry Crest\n",
    "Cherry Crest Elementary\n",
    " 12400 NE 32nd Street, Bellevue, WA 98005\n",
    " \n",
    "Clyde Hill\n",
    "Clyde Hill Elementary\n",
    " 9601 NE 24th St., Bellevue, WA 98004\n",
    " \n",
    "Eastgate\n",
    "Eastgate Elementary\n",
    " 4255 153rd Ave SE, Bellevue, WA 98006\n",
    " \n",
    "Enatai\n",
    "Enatai Elementary School\n",
    " 10700 SE 25th Street, Bellevue, WA 98004\n",
    " \n",
    "Lake Hills\n",
    "Lake Hills Elementary\n",
    " 14310 SE 12th Street, Bellevue, WA 98007\n",
    " \n",
    " Medina\n",
    "Medina Elementary\n",
    " 8001 NE 8th Street, Medina, WA 98039\n",
    " \n",
    " Newport Heights\n",
    "Newport Heights Elementary\n",
    " 5225 119th Ave SE, Bellevue, WA 98006\n",
    " \n",
    " Phantom Lake\n",
    "Phantom Lake Elementary\n",
    " 1050 160th Ave SE, Bellevue, WA 98008\n",
    " \n",
    " Sherwood Forest\n",
    "Sherwood Forest Elementary\n",
    " 16411 NE 24th Street, Bellevue, WA 98008\n",
    " \n",
    " \n",
    " Somerset\n",
    "Somerset Elementary\n",
    " 14100 Somerset Blvd SE, Bellevue, WA 98006\n",
    " \n",
    " \n",
    " Spiritridge\n",
    "Spiritridge Elementary\n",
    " 16401 SE 24th Street, Bellevue, WA 98008\n",
    " \n",
    " Stevenson\n",
    "a photo of the entrance to Stevenson Elementary\n",
    " 14220 NE 8th St, Bellevue, WA 98007\n",
    " \n",
    " Wilburton\n",
    "Wilburton Elementary School\n",
    " 12300 Main Street, Bellevue, WA 98005\n",
    " \n",
    " \n",
    " Woodridge\n",
    "Woodridge Elementary\n",
    " 12619 SE 20th Place, Bellevue, WA 98005\n",
    "\n",
    "\n",
    "Chinook\n",
    "Chinook Middle School\n",
    " 2001 98th Ave NE, Bellevue, WA 98004\n",
    " \n",
    " Highland\n",
    "Highland Middle School front entrance.\n",
    " 15027 NE Bel/Red Road, Bellevue, WA 98007\n",
    " \n",
    " Odle\n",
    "Odle Middle School\n",
    " 502 143rd Ave NE, Bellevue, WA 98007\n",
    " \n",
    " Tillicum\n",
    "Tilicum Middle School\n",
    " 1280 160th Ave SE, Bellevue, WA 98008\n",
    " \n",
    " Tyee\n",
    "Tyee Middle School\n",
    " 13630 SE Allen Road, Bellevue, WA 98006\n",
    " \n",
    " Bellevue\n",
    "Bellevue High School\n",
    " 10416 SE Wolverine Way, Bellevue, WA 98004\n",
    " \n",
    " Interlake\n",
    "Interlake High School\n",
    " 16245 NE 24th Street, Bellevue, WA 98008\n",
    " \n",
    " Newport\n",
    "Newport High School\n",
    " 4333 Factoria Blvd SE, Bellevue, WA 98006\n",
    " \n",
    " Sammamish\n",
    "Sammamish High School\n",
    " 100 140th Ave SE, Bellevue, WA 98005\n",
    " \n",
    "\n",
    "#### EnumClaw School District\n",
    "#### Federal Way School District\n",
    "\n",
    "Elementary\n",
    "Adelaide Elementary    Facebook\n",
    "adelaide elementary\n",
    "\n",
    "1635 S.W. 304th St.\n",
    "Federal Way, WA 98023\n",
    "Phone: (253) 945-2300\n",
    "\n",
    "Brigadoon Elementary\n",
    "brigadoon elementary\n",
    "\n",
    "3601 S.W. 336th Street\n",
    "Federal Way, WA 98023\n",
    "Phone: (253) 945-2400\n",
    "\n",
    "Camelot Elementary\n",
    "camelot\n",
    "\n",
    "4041 S. 298th St\n",
    "Auburn, WA 98001\n",
    "Phone: (253) 945-2500\n",
    "\n",
    "Enterprise Elementary\n",
    "enterprise\n",
    "\n",
    "35101 5th Avenue SW\n",
    "Federal Way, WA 98023\n",
    "Phone: (253) 945-2600\n",
    "\n",
    "Green Gables Elementary\n",
    "green gables elementary\n",
    "\n",
    "32607 47th Avenue S.W.\n",
    "Federal Way, WA 98023\n",
    "Phone: (253) 945-2700\n",
    "\n",
    "Lake Dolloff Elementary\n",
    "lake dolloff elementary\n",
    "\n",
    "4200 S. 308th Street\n",
    "Auburn, WA 98001\n",
    "Phone: (253) 945-2800\n",
    "\n",
    "Lake Grove Elementary\n",
    "lg icon \n",
    "\n",
    "303 S.W. 308th Street\n",
    "Federal Way, WA 98023\n",
    "Phone: (253) 945-2900\n",
    "\n",
    " \n",
    "\n",
    "Lakeland Elementary\n",
    "lakeland \n",
    "\n",
    "35827 32nd Avenue S.\n",
    "Auburn, WA 98001\n",
    "Phone: (253) 945-3000\n",
    "\n",
    "Mark Twain Elementary\n",
    "Mark Twain\n",
    "\n",
    "2450 S. Star Lake Road\n",
    "Federal Way, WA 98003\n",
    "Phone: (253) 945-3100\n",
    "\n",
    "Meredith Hill Elementary    Facebook\n",
    "meredith\n",
    "\n",
    "5830 S. 300th Street\n",
    "Auburn, WA 98001\n",
    "Phone: (253) 945-3200\n",
    "\n",
    "Mirror Lake Elementary\n",
    "mirrorlake\n",
    "\n",
    "625 S. 314th Street\n",
    "Federal Way, WA 98003\n",
    "Phone: (253) 945-3300\n",
    "\n",
    "Nautilus K-8\n",
    "nautilus\n",
    "\n",
    "1000 S. 289th Street\n",
    "Federal Way, WA 98003\n",
    "Phone: (253) 945-3400\n",
    "\n",
    "Olympic View Elementary     Facebook\n",
    "Olympic View\n",
    "\n",
    "Currently Under Construction\n",
    "\n",
    "2626 S.W. 327th Street\n",
    "Federal Way, WA 98023\n",
    "Phone: (253) 945-3500\n",
    "\n",
    "Temporarily Relocated to:\n",
    "\n",
    "3600 S 344th Way \n",
    "Federal Way, WA 98001\n",
    "\n",
    "Panther Lake Elementary\n",
    "panther lake elementary\n",
    "\n",
    "34424 1st Avenue S.\n",
    "Federal Way, WA 98003\n",
    "Phone: (253) 945-3600\n",
    "\n",
    "Rainier View Elementary\n",
    "rainier view \n",
    "\n",
    "3015 S. 368th Street\n",
    "Federal Way, WA 98003\n",
    "Phone: (253) 945-3700\n",
    "\n",
    "Sherwood Forest Elementary\n",
    "Sherwood Forest\n",
    "\n",
    "34600 12th Avenue S.W.\n",
    "Federal Way, WA 98023\n",
    "Phone: (253) 945-3800\n",
    "\n",
    "Silver Lake Elementary\n",
    "silver lake\n",
    "\n",
    "1310 S.W. 325th Place\n",
    "Federal Way, WA 98023\n",
    "Phone: (253) 945-3900\n",
    "\n",
    "Star Lake Elementary     Facebook\n",
    "starlake\n",
    "\n",
    "Currently Under Construction\n",
    "\n",
    "4014 S. 270th Street\n",
    "Kent, WA 98032\n",
    "Phone: (253) 945-4000\n",
    "\n",
    "Temporarily Relocated to:\n",
    "\n",
    "3600 S 344th Way \n",
    "Federal Way, WA 98001\n",
    "\n",
    " \n",
    "\n",
    "Sunnycrest Elementary\n",
    "sunnycrest\n",
    "\n",
    "24629 42nd Ave. S.\n",
    "Kent, WA 98032\n",
    "Phone: (253) 945-4100\n",
    "\n",
    "Twin Lakes Elementary\n",
    "twin lakes\n",
    "\n",
    "4400 S.W. 320th St.\n",
    "Federal Way, WA 98023\n",
    "Phone: (253) 945-4200\n",
    "\n",
    "Valhalla Elementary Facebook\n",
    "valhalla\n",
    "\n",
    "27847 42nd Avenue S.\n",
    "Auburn, WA 98001\n",
    "Phone: (253) 945-4300\n",
    "\n",
    "Please contact the school regarding uniform policy.\n",
    "\n",
    "Wildwood Elementary\n",
    "Wildwood Front \n",
    "\n",
    "2405 S. 300th St\n",
    "Federal Way, WA 98003\n",
    "Phone: (253) 945-4400\n",
    "\n",
    "Woodmont K-8\n",
    "woodmont\n",
    "\n",
    "26454 16th Avenue S.\n",
    "Des Moines, WA 98198\n",
    "Phone: (253) 945-4500\n",
    "\n",
    "\n",
    "\n",
    "#### Highline School District\n",
    "\n",
    "\n",
    "#### Issaquah School District\n",
    "Apollo Elementary - (425) 837-7500\n",
    "15025 SE 117th St, Renton, WA - From I-90 take exit #15 and go south on the Renton-Issaquah Road (SR-900). Turn left onto 148th SE, left onto 117th SE, and continue to the school.\n",
    "\n",
    "Briarwood Elementary - (425) 837-5000\n",
    "17020 SE 134th St, Renton, WA - From I-90 take exit #15 and go south on the Renton-Issaquah Road (SR-900). Turn left onto 164th Ave. SE, left onto SE 128th, right on 168th, left on 134th and continue to the school.\n",
    "\n",
    "Cascade Ridge Elementary - (425) 837-5500\n",
    "2020 Trossachs Blvd SE, Sammamish, WA - From I-90 eastbound take exit #18 and stay to the left onto Highland Drive. Turn right onto Issaquah-Fall City Rd. at stoplight. Bear left as Issaquah-Fall City Rd. becomes Duthie Hill Rd. Turn left onto Trossachs Blvd. SE. School is on the right.\n",
    "\n",
    "Cedar Trails Elementary - (425) 837-6500\n",
    "4399 Issaquah-Pine Lake Road SE, Sammamish, WA - From I-90 eastbound take exit #18 and stay to the left onto Highland Drive. Continue on Highland Drive as it becomes Issaquah-Pine Lake Rd. approximately 1 mile.  School is on the left before Klahanie Blvd.\n",
    "\n",
    "Challenger Elementary - (425) 837-7550\n",
    "25200 SE Klahanie Blvd, Sammamish, WA -  From I-90 eastbound take exit #18 and stay to the left onto Highland Drive. Continue on Highland Drive as it becomes Issaquah-Pine Lake Rd. Turn right at the light onto Klahanie Blvd. Continue on Klahanie Blvd. approximately 1 mile.\n",
    "\n",
    "Clark Elementary - (425) 837-6300\n",
    "500 2nd Ave SE, Issaquah, WA - From I-90 take exit #17. Go south on Front Street turn left at the stop light onto E. Sunset Way. Turn right onto 2nd Ave. SE and continue, school is on the left. \n",
    "\n",
    "Cougar Ridge Elementary - (425) 837-6400\n",
    "4630 167th Ave SE, Bellevue, WA - From 1-90 eastbound take exit 13, stay to right. At stoplight go straight on Lakemont Blvd for 1 mile. At stoplight at Lakemont and 171st SE, make a right turn.  Continue for .4 mile. At SE 47th St., turn left, continue on SE 47th, which becomes SE 46th. Take first left turn into the school.\n",
    "\n",
    "Creekside Elementary - (425) 837-5200\n",
    "20777 SE 16th St, Sammamish, WA - From 1-90 take exit 17. Turn left on Front St. Take a left on East Lake Sammamish Pkwy, go 2 miles and take right at round about (43rd). Continue on 43rd until it turns into 228th Ave. SE. Go thru stoplight, continue ½ mile and turn left on SE 20th St. Travel one mile and turn right on 212th Ave. SE. Turn left on 18th SE, then right onto SE 16th.\n",
    "\n",
    "Discovery Elementary - (425) 837-4100\n",
    "2300 228th Ave SE, Sammamish, WA - From I-90 take exit #17. Go north on E. Lake Sammamish Road, turn right at the light at E. 43rd Way which turns into 228th Ave SE.  Continue on 228th until you reach the school on your right.\n",
    "\n",
    "Endeavour Elementary - (425) 837-7350\n",
    "26205 SE Issaquah Fall City Rd, Issaquah, WA -  From I-90 eastbound, take exit #18 and stay to the left onto Highland Drive. Turn right onto Issaquah-Fall City Rd. at stoplight. Bear left as Issaquah-Fall City Rd. becomes Duthie Hill Road. The school is on the right.\n",
    "\n",
    "Grand Ridge Elementary - (425) 837-7925\n",
    "1739 NE Park Dr, Issaquah, WA -  From I-90 take the new Sunset Interchange (Exit #18). Follow Highlands Drive up the hill and turn right on NE Federal Dr., then turn right on NE Park Dr. Continue .8 mile.  From the Plateau, drive south on Issa-Pine Lake Road, across Issaquah-Fall City Rd where Highlands Dr begins. Turn left on NE Federal Dr., right on NE Park Dr.\n",
    "\n",
    "Issaquah Valley Elementary - (425) 837-6600\n",
    "555 NW Holly St, Issaquah, WA - From I-90 take exit #15 , go south on Renton-Issaquah Rd (SR-900). Turn left onto Maple, it becomes Newport Way.. Turn left onto Holly St. \n",
    "\n",
    "Maple Hills Elementary - (425) 837-5100\n",
    "15644 204th Ave SE, Renton, WA - From I-90 take exit 15, go west (right) on the Renton-Issaquah Road (SR-900), about 4 miles. At stoplight, turn left on SE May Valley Road and go until flashing red light, turn right on SE 128th Way and go about ¾ of a mile. At top of hill take sharp left onto 196th Ave SE and go about 1.5 miles (after about a mile, road curves left and changes to SE 150th St., then curves right and changes to SE 152nd). At Community Park, turn right onto 204th Ave SE and continue 2 blocks to the school.\n",
    "\n",
    "Newcastle Elementary - (425) 837-5800\n",
    "8400 136th Ave SE, Newcastle, WA - From 405, take exit #10 onto Coal Creek Parkway SE.   Go east on Coal Creek for approx. 3 miles to 135th Ave SE. Turn left on 135th Ave SE, turn left on 136th Ave SE, turn right into parking lot of school. From Issaquah, go south on SR 900/Issa-Renton Rd, approximately 8 miles. Turn right on Duval Ave NE (Duval changes into Coal Creek Parkway at Newcastle City limits) travel 1.7 miles to 135th Ave Se. Turn right onto 135th Ave SE, turn left on 136th Ave SE, turn right into parking lot of school.\n",
    "\n",
    "Sunny Hills Elementary - (425) 837-7400\n",
    "3200 Issaquah Pink Lake Road SE, Sammamish, WA - From I-90 eastbound, take exit #18 and stay to the left onto Highland Drive. Continue on Highland Drive as it becomes Issaquah-Pine Lake Rd. Continue on Issaquah-Pine Lake Rd. for about 3 miles. The school is on the right.\n",
    "\n",
    "Sunset Elementary - (425) 837-5600\n",
    "4229 W Lake Sammamish Pkwy SE, Bellevue, WA - From I-90 take exit #13. The school is on the north side of the freeway.\n",
    "\n",
    "\n",
    "Beaver Lake Middle School - (425) 837-4150\n",
    "25025 SE 32nd St, Sammamish, WA - From I-90 eastbound, take exit #18 and stay to the left onto Highland Drive. Continue on Highland Drive as it becomes Issaquah-Pine Lake Rd. Continue on Issaquah-Pine Lake Rd. for about 3 miles. Turn right on 32nd Way. The school will be on your right.\n",
    "\n",
    "Cougar Mountain Middle School - (425) 837-6700\n",
    "Temporary Campus: 11650 SE 60th Street, Bellevue, WA \n",
    "\n",
    "From I-90 westbound, take exit #9 for I-405 South towards Renton. Continue on I-405 South for about two miles and take exit #9 toward 112th Ave SE/Newcastle. Turn left onto Lake Washington Blvd SE, the turn left onto SE 60th St. Ringdall Junior High School will be on your left.\n",
    "\n",
    "From the Newcastle and May Valley area, head northbound on Coal Creek Parkway and turn left onto SE 60th St. Ringdall Junior High School will be on your right.\n",
    "\n",
    "Permanent Campus: 1929 NW Talus Drive, Issaquah, WA \n",
    "\n",
    "From I-90 eastbound, take exit #15 and turn right at the exit onto WA-900/17th Ave NW. Continue on WA-900 for about half a mile and turn right onto NW Talus Dr. Turn left into the school entrance.\n",
    "\n",
    "From the Newcastle and May Valley area, head southbound on Coal Creek Parkway and turn left onto SE May Valley Rd. Turn left onto WA-900 E/Renton Issaquah Rd SE and continue for just over 4 miles. Turn left on NW Talus Dr and turn left into the school entrance.\n",
    "\n",
    "Issaquah Middle School - (425) 837-6800\n",
    "600 2nd Ave SE, Issaquah, WA - From I-90 take exit #17 and head south on Front Street. Turn left at the stop light onto E. Sunset Way. Turn right on 2nd Ave. SE and take a left at the light into Issaquah High School. Issaquah Middle School will be on the left.\n",
    "\n",
    "Maywood Middle School - (425) 837-6900\n",
    "14490 168th Ave SE, Renton, WA - From I-90 take exit #15 and go south on the Renton-Issaquah Road (SR-900). Turn left onto 164th Ave. SE, left onto SE 128th, right onto 168th SE, left onto SE 136th, right onto 169th SE, right onto 144th SE, left at 168th.\n",
    "\n",
    "Pacific Cascade Middle School - (425) 837-5900\n",
    "24635 SE Issaquah Fall City Rd, Issaquah, WA - From 1-90 eastbound, take exit #18 and stay to the left onto Highland Drive. Turn right onto Issaquah-Fall City Rd. at stoplight. Go about ½ mile until 247th SE, turn right. School is right there.\n",
    "\n",
    "Pine Lake Middle School - (425) 837-5700\n",
    "3095 Issaquah-Pine Lake Road SE, Sammamish, WA - From I-90 eastbound, take exit #18 and stay to the left onto Highland Drive. Continue on Highland Drive as it becomes Issaquah-Pine Lake Rd. Continue on Issaquah-Pine Lake Rd. for about 3 miles. The school is on the left.\n",
    "\n",
    "Gibson Ek High School - (425) 837-6350\n",
    "379 1st Pl SE, Issaquah, WA - (formerly Issaquah Middle School) - From I-90 take #17 and proceed south onto Front Street. Continue south on Front Street into downtown Issaquah. Turn left on Clark. Go past the Boehm Pool on the left into the school parking lot.\n",
    "\n",
    "Issaquah High School - (425) 837-6000\n",
    "700 2nd Ave SE, Issaquah, WA -  From I-90 take exit #17 and head south on Front Street. Turn left at the stop light onto E. Sunset Way. Turn right on 2nd Ave. SE and continue to the school which is on the left.\n",
    "\n",
    "Liberty High School - (425) 837-4800\n",
    "16622 SE 136th St, Renton, WA - From I-90 take exit #15 and go south on the Renton-Issaquah Road (SR-900). Turn left onto 164th Ave. SE, left onto SE 128th, right onto 168th SE. The school is located on the corner of 168th and 136th.\n",
    "\n",
    "Skyline High School - (425) 837-7700\n",
    "1122 228th Ave SE, Sammamish, WA - From I-90 take exit #17. Go north on E. Lake Sammamish Road. Turn right at the light onto SE 43rd way which turns into 228th Ave SE. Continue on 228th to the school which is on the right.\n",
    "\n",
    "Echo Glen School - (425) 831-2520\n",
    "33010 SE 99th St, Snoqualmie, WA - From I-90 take exit #25 and go toward ramp onto Highway 18/Snoqualmie Parkway.  Turn left onto Hwy 18 (road changes to Snoqualmie Pkwy) and left onto SE 99th. \n",
    "\n",
    "\n",
    "#### Kent School District\n",
    "Cedar_Heights\n",
    "Mattson\n",
    "Meeker\n",
    "Meridian\n",
    "Mill\n",
    "Northwood\n",
    "\n",
    "\n",
    "#### Lake Washington School District\n",
    "#### Mercer Island School District\n",
    "#### Northshore School District\n",
    "#### Renton School District\n",
    "#### Riverview School District\n",
    "####  Seattle Public Schools\n",
    "#### Shoreline School District\n",
    "####  Snoqualmie Valley School District\n",
    "#### Tahoma School District\n",
    "#### Tukwila School District\n",
    "#### Vashion Island School District"
   ]
  },
  {
   "cell_type": "code",
   "execution_count": null,
   "id": "039d9c52",
   "metadata": {},
   "outputs": [],
   "source": []
  }
 ],
 "metadata": {
  "kernelspec": {
   "display_name": "Python 3 (ipykernel)",
   "language": "python",
   "name": "python3"
  },
  "language_info": {
   "codemirror_mode": {
    "name": "ipython",
    "version": 3
   },
   "file_extension": ".py",
   "mimetype": "text/x-python",
   "name": "python",
   "nbconvert_exporter": "python",
   "pygments_lexer": "ipython3",
   "version": "3.9.7"
  }
 },
 "nbformat": 4,
 "nbformat_minor": 5
}
