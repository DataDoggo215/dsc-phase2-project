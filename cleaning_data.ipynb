{
 "cells": [
  {
   "cell_type": "markdown",
   "metadata": {},
   "source": [
    "## Function for adjusting the test dataset"
   ]
  },
  {
   "cell_type": "code",
   "execution_count": 1,
   "metadata": {},
   "outputs": [
    {
     "ename": "SyntaxError",
     "evalue": "invalid syntax (Master.ipynb, line 598)",
     "output_type": "error",
     "traceback": [
      "Traceback \u001b[1;36m(most recent call last)\u001b[0m:\n",
      "  File \u001b[0;32m\"D:\\ProgramFilesD\\Anaconda3\\lib\\site-packages\\IPython\\core\\interactiveshell.py\"\u001b[0m, line \u001b[0;32m3437\u001b[0m, in \u001b[0;35mrun_code\u001b[0m\n    exec(code_obj, self.user_global_ns, self.user_ns)\n",
      "  File \u001b[0;32m\"<ipython-input-1-7343f3140e88>\"\u001b[0m, line \u001b[0;32m2\u001b[0m, in \u001b[0;35m<module>\u001b[0m\n    from ipynb.fs.full.Master import distance_from\n",
      "  File \u001b[0;32m\"<frozen importlib._bootstrap>\"\u001b[0m, line \u001b[0;32m991\u001b[0m, in \u001b[0;35m_find_and_load\u001b[0m\n",
      "  File \u001b[0;32m\"<frozen importlib._bootstrap>\"\u001b[0m, line \u001b[0;32m975\u001b[0m, in \u001b[0;35m_find_and_load_unlocked\u001b[0m\n",
      "  File \u001b[0;32m\"<frozen importlib._bootstrap>\"\u001b[0m, line \u001b[0;32m671\u001b[0m, in \u001b[0;35m_load_unlocked\u001b[0m\n",
      "  File \u001b[0;32m\"<frozen importlib._bootstrap_external>\"\u001b[0m, line \u001b[0;32m779\u001b[0m, in \u001b[0;35mexec_module\u001b[0m\n",
      "\u001b[1;36m  File \u001b[1;32m\"D:\\ProgramFilesD\\Anaconda3\\lib\\site-packages\\ipynb\\fs\\full\\__init__.py\"\u001b[1;36m, line \u001b[1;32m43\u001b[1;36m, in \u001b[1;35mget_code\u001b[1;36m\u001b[0m\n\u001b[1;33m    return self.source_to_code(code_from_ipynb(nb), self.path)\u001b[0m\n",
      "\u001b[1;36m  File \u001b[1;32m\"D:\\Scat\\FlatIron School\\course_material\\phase_2_project\\dsc-phase2-project\\Master.ipynb\"\u001b[1;36m, line \u001b[1;32m598\u001b[0m\n\u001b[1;33m    \"10155  2558630350         4       2.50         2060      6958     1.0   \\n\",\u001b[0m\n\u001b[1;37m        ^\u001b[0m\n\u001b[1;31mSyntaxError\u001b[0m\u001b[1;31m:\u001b[0m invalid syntax\n"
     ]
    }
   ],
   "source": [
    "import pandas as pd\n",
    "from ipynb.fs.full.Master import distance_from"
   ]
  },
  {
   "cell_type": "code",
   "execution_count": 2,
   "metadata": {},
   "outputs": [],
   "source": [
    "def clean_data(df):\n",
    "    '''\n",
    "    Takes in a pandas dataframe\n",
    "    Applies cleaning methods for current project\n",
    "    returns cleaned dataset\n",
    "    '''\n",
    "    \n",
    "    # Fill NaN values with most commom occurances\n",
    "    df['view'].fillna('NONE', inplace=True)\n",
    "    df['waterfront'].fillna('NO', inplace=True)\n",
    "    df['yr_renovated'].fillna(0.0, inplace=True)\n",
    "    \n",
    "    # Convert grade to int\n",
    "    df['grade'] = df['grade'].apply(lambda x: x[:2] if x[0]=='1' else x[:1]).astype('int64')\n",
    "    \n",
    "    # Remove ? and convert sqft_basement to int\n",
    "    df['sqft_basement'] = df['sqft_basement'].apply(lambda x: 0 if x=='?' else int(x.split('.')[0]))\n",
    "    \n",
    "    # Change waterfront to numeric\n",
    "    df['waterfront'] = df['waterfront'].apply(lambda x: 1 if x=='YES' else 0)\n",
    "    \n",
    "    # Change view to numeric\n",
    "    df['view'] = df['view'].apply(lambda x: 0 if x=='NONE' else (1 if x=='FAIR' else (2 if x=='AVERAGE' else (3 if x=='GOOD' else 4))))\n",
    "    \n",
    "    # Change condition to numeric\n",
    "    df['condition'] = df['condition'].apply(lambda x: 1 if x=='Poor' else (2 if x=='Fair' else (3 if x=='Average' else (4 if x=='Good' else 5))))\n",
    "    \n",
    "    #Convert date column to 2 separate columns for month and year\n",
    "    date = df['date'].str.split('/', expand=True)\n",
    "    df['month_sold'] = date[0].astype('int64')\n",
    "    df['year_sold'] = date[2].astype('int64')\n",
    "\n",
    "    #Drop original date column\n",
    "    df.drop(columns=['date'], axis=1, inplace=True)\n",
    "    \n",
    "#     # Change features we changed in the original dataset\n",
    "#     df = df[~df['bedrooms'].isin([11, 10, 9])]\n",
    "    \n",
    "#     df['bathrooms'] = df['bathrooms'].apply(lambda x: np.ceil(x) if str(x)[2] == '7' else (np.ceil(x) if str(x)[2] == '5' else np.floor(x)))\n",
    "#     df = df[~df['bathrooms'].isin([8.0, 7.0])]\n",
    "    \n",
    "#     df['floors'] = df['floors'].apply(lambda x: np.ceil(x))\n",
    "    \n",
    "#     lat_long = df['lat'].astype(str) + ',' + df['long'].astype(str)\n",
    "\n",
    "#     lat_long = list(map(eval, lat_long))\n",
    "#     Seattle = (47.6062, -122.3321)\n",
    "#     Redmond = (47.6740, -122.1215)\n",
    "#     miles_s = []\n",
    "#     miles_r = []\n",
    "#     for i in lat_long:\n",
    "#         miles_s.append(round(distance.distance(i, Seattle).miles, 1))\n",
    "#     for i in lat_long:\n",
    "#         miles_r.append(round(distance.distance(i, Redmond).miles, 1))\n",
    "#     df['distance_seattle'] = miles_s\n",
    "#     df['distance_redmond'] = miles_r\n",
    "#     df['distance_seattle'] = distance_from(47.6062, -122.3321, df['lat'], df['long'])\n",
    "#     df['distance_redmond'] = distance_from(47.6740, -122.1215, df['lat'], df['long'])\n",
    "    \n",
    "    # Drop columns we removed from original dataset\n",
    "    df.drop(columns=['date', 'grade', 'sqft_above', 'sqft_living15', 'sqft_lot15', 'id', 'zipcode', 'lat', 'long', 'condition', 'yr_built', 'sqft_lot', 'yr_renovated', 'view'], axis=1, inplace=True)\n",
    "\n",
    "    return df"
   ]
  },
  {
   "cell_type": "code",
   "execution_count": null,
   "metadata": {},
   "outputs": [],
   "source": []
  }
 ],
 "metadata": {
  "kernelspec": {
   "display_name": "Python 3",
   "language": "python",
   "name": "python3"
  },
  "language_info": {
   "codemirror_mode": {
    "name": "ipython",
    "version": 3
   },
   "file_extension": ".py",
   "mimetype": "text/x-python",
   "name": "python",
   "nbconvert_exporter": "python",
   "pygments_lexer": "ipython3",
   "version": "3.8.8"
  }
 },
 "nbformat": 4,
 "nbformat_minor": 4
}
