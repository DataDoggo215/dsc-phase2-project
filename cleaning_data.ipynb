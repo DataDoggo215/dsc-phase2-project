{
 "cells": [
  {
   "cell_type": "markdown",
   "metadata": {},
   "source": [
    "## Function for adjusting the test dataset"
   ]
  },
  {
   "cell_type": "code",
   "execution_count": 1,
   "metadata": {},
   "outputs": [],
   "source": [
    "import pandas as pd"
   ]
  },
  {
   "cell_type": "code",
   "execution_count": 2,
   "metadata": {},
   "outputs": [],
   "source": [
    "def clean_data(df):\n",
    "    '''\n",
    "    Takes in a pandas dataframe\n",
    "    Applies cleaning methods for current project\n",
    "    returns cleaned dataset\n",
    "    '''\n",
    "    \n",
    "    # Fill NaN values with most commom occurances\n",
    "    df['view'].fillna('NONE', inplace=True)\n",
    "    df['waterfront'].fillna('NO', inplace=True)\n",
    "    df['yr_renovated'].fillna(0.0, inplace=True)\n",
    "    \n",
    "    # Convert grade to int\n",
    "    df['grade'] = df['grade'].apply(lambda x: x[:2] if x[0]=='1' else x[:1]).astype('int64')\n",
    "    \n",
    "    # Remove ? and convert sqft_basement to int\n",
    "    df['sqft_basement'] = df['sqft_basement'].apply(lambda x: 0 if x=='?' else int(x.split('.')[0]))\n",
    "    \n",
    "    # Change waterfront to numeric\n",
    "    df['waterfront'] = df['waterfront'].apply(lambda x: 1 if x=='YES' else 0)\n",
    "    \n",
    "    # Change view to numeric\n",
    "    df['view'] = df['view'].apply(lambda x: 0 if x=='NONE' else (1 if x=='FAIR' else (2 if x=='AVERAGE' else (3 if x=='GOOD' else 4))))\n",
    "    \n",
    "    # Change condition to numeric\n",
    "    df['condition'] = df['condition'].apply(lambda x: 1 if x=='Poor' else (2 if x=='Fair' else (3 if x=='Average' else (4 if x=='Good' else 5))))\n",
    "    \n",
    "    #Convert date column to 2 separate columns for month and year\n",
    "    date = df['date'].str.split('/', expand=True)\n",
    "    df['month_sold'] = date[0].astype('int64')\n",
    "    df['year_sold'] = date[2].astype('int64')\n",
    "\n",
    "    #Drop original date column\n",
    "    df.drop(columns=['date'], axis=1, inplace=True)\n",
    "    \n",
    "    return df"
   ]
  },
  {
   "cell_type": "code",
   "execution_count": null,
   "metadata": {},
   "outputs": [],
   "source": []
  }
 ],
 "metadata": {
  "kernelspec": {
   "display_name": "Python (learn-env)",
   "language": "python",
   "name": "learn-env"
  },
  "language_info": {
   "codemirror_mode": {
    "name": "ipython",
    "version": 3
   },
   "file_extension": ".py",
   "mimetype": "text/x-python",
   "name": "python",
   "nbconvert_exporter": "python",
   "pygments_lexer": "ipython3",
   "version": "3.8.5"
  }
 },
 "nbformat": 4,
 "nbformat_minor": 4
}
